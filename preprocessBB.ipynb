{
 "cells": [
  {
   "cell_type": "code",
   "execution_count": 1,
   "id": "5e45e860-8319-430d-a11d-d97ae6bd0811",
   "metadata": {},
   "outputs": [],
   "source": [
    "from sklearn.discriminant_analysis import StandardScaler\n",
    "from sklearn.ensemble import RandomForestClassifier\n",
    "from sklearn.feature_selection import RFE\n",
    "import pandas as pd\n",
    "import numpy as np "
   ]
  },
  {
   "cell_type": "code",
   "execution_count": 2,
   "id": "4f279e8e-889f-41a0-bfa8-42f98b4496ba",
   "metadata": {},
   "outputs": [],
   "source": [
    "# Load the NIDS dataset\n",
    "df1 = pd.read_csv('datasets/Normal_data.csv')\n",
    "df2 = pd.read_csv('datasets/metasploitable-2.csv')\n",
    "df = df1.merge(df2,how='outer')"
   ]
  },
  {
   "cell_type": "code",
   "execution_count": 3,
   "id": "80727b86-9388-4363-88eb-2fa3b603ee0c",
   "metadata": {},
   "outputs": [
    {
     "name": "stdout",
     "output_type": "stream",
     "text": [
      "                                    Flow_ID          Src_IP  Src_Port  \\\n",
      "0  185.127.17.56-192.168.20.133-443-53648-6   185.127.17.56       443   \n",
      "1  185.127.17.56-192.168.20.133-443-53650-6  192.168.20.133     53650   \n",
      "2    192.168.20.133-192.168.20.2-35108-53-6  192.168.20.133     35108   \n",
      "3    192.168.20.133-192.168.20.2-35108-53-6    192.168.20.2        53   \n",
      "4  154.59.122.74-192.168.20.133-443-60900-6  192.168.20.133     60900   \n",
      "\n",
      "           Dst_IP  Dst_Port  Protocol       Timestamp  Flow_Duration  \\\n",
      "0  192.168.20.133     53648         6  5/2/2020 13:58         245230   \n",
      "1   185.127.17.56       443         6  5/2/2020 13:58        1605449   \n",
      "2    192.168.20.2        53         6  5/2/2020 13:58          53078   \n",
      "3  192.168.20.133     35108         6  5/2/2020 13:58           6975   \n",
      "4   154.59.122.74       443         6  5/2/2020 13:58         190141   \n",
      "\n",
      "   Tot_Fwd_Pkts  Tot_Bwd_Pkts  ...  Fwd_Seg_Size_Min  Active_Mean  Active_Std  \\\n",
      "0            44            40  ...                 0          0.0         0.0   \n",
      "1           107           149  ...                 0          0.0         0.0   \n",
      "2             5             5  ...                 0          0.0         0.0   \n",
      "3             1             1  ...                 0          0.0         0.0   \n",
      "4            13            16  ...                 0          0.0         0.0   \n",
      "\n",
      "   Active_Max  Active_Min  Idle_Mean  Idle_Std  Idle_Max  Idle_Min   Label  \n",
      "0         0.0         0.0        0.0       0.0       0.0       0.0  Normal  \n",
      "1         0.0         0.0        0.0       0.0       0.0       0.0  Normal  \n",
      "2         0.0         0.0        0.0       0.0       0.0       0.0  Normal  \n",
      "3         0.0         0.0        0.0       0.0       0.0       0.0  Normal  \n",
      "4         0.0         0.0        0.0       0.0       0.0       0.0  Normal  \n",
      "\n",
      "[5 rows x 84 columns]\n"
     ]
    }
   ],
   "source": [
    "#putting underscored in place of spaces in the column names\n",
    "cols = df.columns\n",
    "cols = cols.map(lambda x: x.replace(' ', '_'))\n",
    "df.columns = cols\n",
    "print(df.head())"
   ]
  },
  {
   "cell_type": "code",
   "execution_count": 4,
   "id": "0b43a001-80f8-4fef-b29b-d9126a2e145a",
   "metadata": {},
   "outputs": [],
   "source": [
    "#dropping some label values\n",
    "df = df.drop(df[df['Label'].isin(['U2R','BFA','DoS'])].index)"
   ]
  },
  {
   "cell_type": "code",
   "execution_count": 5,
   "id": "9f2ca252-fdb6-4126-aa09-04d97243053f",
   "metadata": {},
   "outputs": [
    {
     "name": "stdout",
     "output_type": "stream",
     "text": [
      "Timestamp,  Flow_ID,  Src_IP,  Dst_IP  columns are dropped\n"
     ]
    }
   ],
   "source": [
    "#dropping some columns\n",
    "df = df.drop(columns=['Timestamp', 'Flow_ID', 'Src_IP', 'Dst_IP'])\n",
    "print('Timestamp, ', 'Flow_ID, ', 'Src_IP, ', 'Dst_IP ','columns are dropped')"
   ]
  },
  {
   "cell_type": "code",
   "execution_count": 6,
   "id": "58758833-a236-4b17-ae47-f4cd7dcf113a",
   "metadata": {},
   "outputs": [],
   "source": [
    "#normalising the numerical features\n",
    "numeric_col = df.select_dtypes(include='number').columns\n",
    "std_scaler = StandardScaler()\n",
    "def normalization(df,col):\n",
    "  for i in col:\n",
    "    arr = df[i]\n",
    "    arr = np.array(arr)\n",
    "    df[i] = std_scaler.fit_transform(arr.reshape(len(arr),1))\n",
    "  return df\n",
    "\n",
    "df = normalization(df.copy(),numeric_col)"
   ]
  },
  {
   "cell_type": "code",
   "execution_count": 12,
   "id": "cb586659-4751-4f33-921c-171c17148483",
   "metadata": {},
   "outputs": [],
   "source": [
    "# Prepare the dataset for feature selection\n",
    "X = df.drop('Label', axis=1)\n",
    "y = df['Label']"
   ]
  },
  {
   "cell_type": "code",
   "execution_count": 15,
   "id": "ed7afc9f-beee-4dd1-ac34-28000db1d530",
   "metadata": {},
   "outputs": [
    {
     "name": "stdout",
     "output_type": "stream",
     "text": [
      "[ True  True  True False False False False False False False  True False\n",
      "  True False  True False False  True False False False False False False\n",
      " False False False  True  True False  True  True False False False False\n",
      " False  True  True  True False  True  True  True  True False  True False\n",
      " False False False False False False  True  True False False False False\n",
      " False False False False  True  True  True False  True False False False\n",
      " False False False False False False False]\n",
      "[ 1  1  1  3  4  7  8  6  5 40  1 22  1 37  1 13 15  1  2 19 14  9 23 18\n",
      " 28 26 16  1  1 27  1  1 42 33 53 49 12  1  1  1 46  1  1  1  1 25  1 30\n",
      " 31 11 52 45 55 24  1  1 17 41 54 51 43 44 47 10  1  1  1 48  1 32 50 21\n",
      " 35 29 20 36 34 38 39]\n"
     ]
    }
   ],
   "source": [
    "#Initialize the Random Forest Classifier\n",
    "clf = RandomForestClassifier(random_state=42)\n",
    "\n",
    "#Use RFE to select the top 25 features\n",
    "rfe = RFE(clf, n_features_to_select=25)\n",
    "rfe.fit(X, y)\n",
    "print(rfe.support_)\n",
    "\n",
    "print(rfe.ranking_)\n",
    "# Get the names of the top 25 features\n",
    "#top_features = X.columns[rfe.support_].tolist()\n",
    "#print(\"Top 25 features:\", top_features)"
   ]
  },
  {
   "cell_type": "code",
   "execution_count": 10,
   "id": "36999738-f779-46f1-a69f-44adb2e45361",
   "metadata": {},
   "outputs": [],
   "source": [
    "#X[top_features].to_csv('X_bb1.csv',index=False)\n",
    "#y.to_csv('Y_bb1.csv',index=False)"
   ]
  },
  {
   "cell_type": "code",
   "execution_count": 9,
   "id": "d6f6ba5e-3f5d-41b4-abf1-150825010f62",
   "metadata": {},
   "outputs": [],
   "source": [
    "top_features = ['Src_Port', 'Dst_Port', 'Protocol', 'Fwd_Pkt_Len_Mean', 'Bwd_Pkt_Len_Max', 'Bwd_Pkt_Len_Mean', 'Flow_Pkts_s', 'Bwd_IAT_Tot', 'Bwd_IAT_Mean', 'Bwd_IAT_Max', 'Bwd_IAT_Min', 'Bwd_Header_Len', 'Fwd_Pkts_s', 'Bwd_Pkts_s', 'Pkt_Len_Max', 'Pkt_Len_Mean', 'Pkt_Len_Std', 'Pkt_Len_Var', 'SYN_Flag_Cnt', 'Pkt_Size_Avg', 'Fwd_Seg_Size_Avg', 'Subflow_Fwd_Byts', 'Subflow_Bwd_Pkts', 'Subflow_Bwd_Byts', 'Init_Bwd_Win_Byts']"
   ]
  },
  {
   "cell_type": "code",
   "execution_count": 11,
   "id": "6d0bad13-873e-4fcf-96bb-568aec037c7c",
   "metadata": {},
   "outputs": [
    {
     "name": "stdout",
     "output_type": "stream",
     "text": [
      "         Top Features\n",
      "0            Src_Port\n",
      "1            Dst_Port\n",
      "2            Protocol\n",
      "3    Fwd_Pkt_Len_Mean\n",
      "4     Bwd_Pkt_Len_Max\n",
      "5    Bwd_Pkt_Len_Mean\n",
      "6         Flow_Pkts_s\n",
      "7         Bwd_IAT_Tot\n",
      "8        Bwd_IAT_Mean\n",
      "9         Bwd_IAT_Max\n",
      "10        Bwd_IAT_Min\n",
      "11     Bwd_Header_Len\n",
      "12         Fwd_Pkts_s\n",
      "13         Bwd_Pkts_s\n",
      "14        Pkt_Len_Max\n",
      "15       Pkt_Len_Mean\n",
      "16        Pkt_Len_Std\n",
      "17        Pkt_Len_Var\n",
      "18       SYN_Flag_Cnt\n",
      "19       Pkt_Size_Avg\n",
      "20   Fwd_Seg_Size_Avg\n",
      "21   Subflow_Fwd_Byts\n",
      "22   Subflow_Bwd_Pkts\n",
      "23   Subflow_Bwd_Byts\n",
      "24  Init_Bwd_Win_Byts\n"
     ]
    }
   ],
   "source": [
    "# Create a DataFrame\n",
    "df_top_features = pd.DataFrame({'Top Features': top_features})\n",
    "\n",
    "# Display the DataFrame\n",
    "print(df_top_features)"
   ]
  }
 ],
 "metadata": {
  "kernelspec": {
   "display_name": "Python 3 (ipykernel)",
   "language": "python",
   "name": "python3"
  },
  "language_info": {
   "codemirror_mode": {
    "name": "ipython",
    "version": 3
   },
   "file_extension": ".py",
   "mimetype": "text/x-python",
   "name": "python",
   "nbconvert_exporter": "python",
   "pygments_lexer": "ipython3",
   "version": "3.10.12"
  }
 },
 "nbformat": 4,
 "nbformat_minor": 5
}
