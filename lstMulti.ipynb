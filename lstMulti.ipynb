{
 "cells": [
  {
   "cell_type": "code",
   "execution_count": 1,
   "metadata": {
    "id": "NLSeZenklG5F"
   },
   "outputs": [],
   "source": [
    "#importing required libraries\n",
    "import numpy as np\n",
    "import pandas as pd\n",
    "from sklearn.calibration import LabelEncoder\n",
    "import tensorflow as tf\n",
    "from sklearn.preprocessing import StandardScaler\n",
    "from sklearn.model_selection import train_test_split\n",
    "from sklearn.metrics import classification_report, confusion_matrix\n",
    "from keras.models import Sequential,save_model\n",
    "from keras.layers import LSTM, Dense, Dropout,Conv1D,MaxPooling1D\n",
    "from keras.callbacks import EarlyStopping\n",
    "from keras.utils import to_categorical\n",
    "from sklearn.utils import class_weight"
   ]
  },
  {
   "cell_type": "code",
   "execution_count": 2,
   "metadata": {
    "id": "wfU4mxISliW7"
   },
   "outputs": [],
   "source": [
    "#reading the csv files(preprocessed data and labels), selecting only the features extracted via RFC and storing the required in X and y\n",
    "data = pd.read_csv('X_bb1.csv')\n",
    "labels = pd.read_csv('Y_bb1.csv')\n",
    "#features = ['Src_Port', 'Dst_Port', 'Protocol', 'Flow_Duration', 'Tot_Bwd_Pkts', 'TotLen_Fwd_Pkts', 'Fwd_Pkt_Len_Mean', 'Bwd_Pkt_Len_Max', 'Bwd_Pkt_Len_Mean', 'Bwd_IAT_Tot', 'Bwd_IAT_Mean', 'Bwd_IAT_Max', 'Bwd_IAT_Min', 'Bwd_Header_Len', 'Bwd_Pkts/s', 'Pkt_Len_Max', 'Pkt_Len_Mean', 'Pkt_Len_Std', 'Pkt_Len_Var', 'SYN_Flag_Cnt', 'Pkt_Size_Avg', 'Fwd_Seg_Size_Avg', 'Subflow_Fwd_Byts', 'Subflow_Bwd_Byts', 'Init_Bwd_Win_Byts']"
   ]
  },
  {
   "cell_type": "code",
   "execution_count": 12,
   "metadata": {
    "colab": {
     "base_uri": "https://localhost:8080/",
     "height": 256
    },
    "id": "aYcnsxCJn71d",
    "outputId": "556417ca-44ee-4c1b-cb7d-a6878cfb0983"
   },
   "outputs": [
    {
     "data": {
      "application/vnd.google.colaboratory.intrinsic+json": {
       "type": "dataframe",
       "variable_name": "data"
      },
      "text/html": [
       "\n",
       "  <div id=\"df-cd5259b8-66b8-4b7a-b8e0-a1232359945d\" class=\"colab-df-container\">\n",
       "    <div>\n",
       "<style scoped>\n",
       "    .dataframe tbody tr th:only-of-type {\n",
       "        vertical-align: middle;\n",
       "    }\n",
       "\n",
       "    .dataframe tbody tr th {\n",
       "        vertical-align: top;\n",
       "    }\n",
       "\n",
       "    .dataframe thead th {\n",
       "        text-align: right;\n",
       "    }\n",
       "</style>\n",
       "<table border=\"1\" class=\"dataframe\">\n",
       "  <thead>\n",
       "    <tr style=\"text-align: right;\">\n",
       "      <th></th>\n",
       "      <th>Src_Port</th>\n",
       "      <th>Dst_Port</th>\n",
       "      <th>Protocol</th>\n",
       "      <th>Fwd_Pkt_Len_Mean</th>\n",
       "      <th>Bwd_Pkt_Len_Max</th>\n",
       "      <th>Bwd_Pkt_Len_Mean</th>\n",
       "      <th>Flow_Pkts/s</th>\n",
       "      <th>Bwd_IAT_Tot</th>\n",
       "      <th>Bwd_IAT_Mean</th>\n",
       "      <th>Bwd_IAT_Max</th>\n",
       "      <th>...</th>\n",
       "      <th>Pkt_Len_Mean</th>\n",
       "      <th>Pkt_Len_Std</th>\n",
       "      <th>Pkt_Len_Var</th>\n",
       "      <th>SYN_Flag_Cnt</th>\n",
       "      <th>Pkt_Size_Avg</th>\n",
       "      <th>Fwd_Seg_Size_Avg</th>\n",
       "      <th>Subflow_Fwd_Byts</th>\n",
       "      <th>Subflow_Bwd_Pkts</th>\n",
       "      <th>Subflow_Bwd_Byts</th>\n",
       "      <th>Init_Bwd_Win_Byts</th>\n",
       "    </tr>\n",
       "  </thead>\n",
       "  <tbody>\n",
       "    <tr>\n",
       "      <th>0</th>\n",
       "      <td>-0.755714</td>\n",
       "      <td>2.349120</td>\n",
       "      <td>0.057529</td>\n",
       "      <td>8.143587</td>\n",
       "      <td>-0.006852</td>\n",
       "      <td>-0.190394</td>\n",
       "      <td>-0.509322</td>\n",
       "      <td>-0.369186</td>\n",
       "      <td>-0.359349</td>\n",
       "      <td>-0.370303</td>\n",
       "      <td>...</td>\n",
       "      <td>4.573562</td>\n",
       "      <td>2.983321</td>\n",
       "      <td>0.469744</td>\n",
       "      <td>2.052277</td>\n",
       "      <td>4.330851</td>\n",
       "      <td>8.143587</td>\n",
       "      <td>1.368650</td>\n",
       "      <td>0.231566</td>\n",
       "      <td>-0.028701</td>\n",
       "      <td>2.467652</td>\n",
       "    </tr>\n",
       "    <tr>\n",
       "      <th>1</th>\n",
       "      <td>1.621551</td>\n",
       "      <td>-0.564903</td>\n",
       "      <td>0.057529</td>\n",
       "      <td>-0.125587</td>\n",
       "      <td>7.258206</td>\n",
       "      <td>6.361782</td>\n",
       "      <td>-0.511086</td>\n",
       "      <td>-0.316301</td>\n",
       "      <td>-0.357990</td>\n",
       "      <td>-0.329411</td>\n",
       "      <td>...</td>\n",
       "      <td>5.333501</td>\n",
       "      <td>4.281757</td>\n",
       "      <td>0.977089</td>\n",
       "      <td>2.052277</td>\n",
       "      <td>5.012745</td>\n",
       "      <td>-0.125587</td>\n",
       "      <td>-0.000675</td>\n",
       "      <td>1.027469</td>\n",
       "      <td>0.954145</td>\n",
       "      <td>2.410597</td>\n",
       "    </tr>\n",
       "    <tr>\n",
       "      <th>2</th>\n",
       "      <td>0.793103</td>\n",
       "      <td>-0.586263</td>\n",
       "      <td>0.057529</td>\n",
       "      <td>-0.116262</td>\n",
       "      <td>0.025970</td>\n",
       "      <td>0.089400</td>\n",
       "      <td>-0.510807</td>\n",
       "      <td>-0.376674</td>\n",
       "      <td>-0.357270</td>\n",
       "      <td>-0.372019</td>\n",
       "      <td>...</td>\n",
       "      <td>-0.037344</td>\n",
       "      <td>0.083446</td>\n",
       "      <td>-0.048202</td>\n",
       "      <td>2.052277</td>\n",
       "      <td>-0.042850</td>\n",
       "      <td>-0.116262</td>\n",
       "      <td>-0.011785</td>\n",
       "      <td>-0.023999</td>\n",
       "      <td>-0.029403</td>\n",
       "      <td>2.410597</td>\n",
       "    </tr>\n",
       "    <tr>\n",
       "      <th>3</th>\n",
       "      <td>-0.773139</td>\n",
       "      <td>1.333690</td>\n",
       "      <td>0.057529</td>\n",
       "      <td>-0.154840</td>\n",
       "      <td>-0.147091</td>\n",
       "      <td>-0.250410</td>\n",
       "      <td>-0.509860</td>\n",
       "      <td>-0.378737</td>\n",
       "      <td>-0.361228</td>\n",
       "      <td>-0.374437</td>\n",
       "      <td>...</td>\n",
       "      <td>-0.282737</td>\n",
       "      <td>-0.234104</td>\n",
       "      <td>-0.053297</td>\n",
       "      <td>-0.487264</td>\n",
       "      <td>-0.297061</td>\n",
       "      <td>-0.154840</td>\n",
       "      <td>-0.012515</td>\n",
       "      <td>-0.053206</td>\n",
       "      <td>-0.031102</td>\n",
       "      <td>2.410553</td>\n",
       "    </tr>\n",
       "    <tr>\n",
       "      <th>4</th>\n",
       "      <td>1.945478</td>\n",
       "      <td>-0.564903</td>\n",
       "      <td>0.057529</td>\n",
       "      <td>0.020512</td>\n",
       "      <td>0.557090</td>\n",
       "      <td>1.302521</td>\n",
       "      <td>-0.511153</td>\n",
       "      <td>-0.371332</td>\n",
       "      <td>-0.357439</td>\n",
       "      <td>-0.372423</td>\n",
       "      <td>...</td>\n",
       "      <td>1.012869</td>\n",
       "      <td>0.867111</td>\n",
       "      <td>0.007975</td>\n",
       "      <td>2.052277</td>\n",
       "      <td>0.965162</td>\n",
       "      <td>0.020512</td>\n",
       "      <td>-0.003892</td>\n",
       "      <td>0.056322</td>\n",
       "      <td>-0.006254</td>\n",
       "      <td>2.410597</td>\n",
       "    </tr>\n",
       "  </tbody>\n",
       "</table>\n",
       "<p>5 rows × 25 columns</p>\n",
       "</div>\n",
       "    <div class=\"colab-df-buttons\">\n",
       "\n",
       "  <div class=\"colab-df-container\">\n",
       "    <button class=\"colab-df-convert\" onclick=\"convertToInteractive('df-cd5259b8-66b8-4b7a-b8e0-a1232359945d')\"\n",
       "            title=\"Convert this dataframe to an interactive table.\"\n",
       "            style=\"display:none;\">\n",
       "\n",
       "  <svg xmlns=\"http://www.w3.org/2000/svg\" height=\"24px\" viewBox=\"0 -960 960 960\">\n",
       "    <path d=\"M120-120v-720h720v720H120Zm60-500h600v-160H180v160Zm220 220h160v-160H400v160Zm0 220h160v-160H400v160ZM180-400h160v-160H180v160Zm440 0h160v-160H620v160ZM180-180h160v-160H180v160Zm440 0h160v-160H620v160Z\"/>\n",
       "  </svg>\n",
       "    </button>\n",
       "\n",
       "  <style>\n",
       "    .colab-df-container {\n",
       "      display:flex;\n",
       "      gap: 12px;\n",
       "    }\n",
       "\n",
       "    .colab-df-convert {\n",
       "      background-color: #E8F0FE;\n",
       "      border: none;\n",
       "      border-radius: 50%;\n",
       "      cursor: pointer;\n",
       "      display: none;\n",
       "      fill: #1967D2;\n",
       "      height: 32px;\n",
       "      padding: 0 0 0 0;\n",
       "      width: 32px;\n",
       "    }\n",
       "\n",
       "    .colab-df-convert:hover {\n",
       "      background-color: #E2EBFA;\n",
       "      box-shadow: 0px 1px 2px rgba(60, 64, 67, 0.3), 0px 1px 3px 1px rgba(60, 64, 67, 0.15);\n",
       "      fill: #174EA6;\n",
       "    }\n",
       "\n",
       "    .colab-df-buttons div {\n",
       "      margin-bottom: 4px;\n",
       "    }\n",
       "\n",
       "    [theme=dark] .colab-df-convert {\n",
       "      background-color: #3B4455;\n",
       "      fill: #D2E3FC;\n",
       "    }\n",
       "\n",
       "    [theme=dark] .colab-df-convert:hover {\n",
       "      background-color: #434B5C;\n",
       "      box-shadow: 0px 1px 3px 1px rgba(0, 0, 0, 0.15);\n",
       "      filter: drop-shadow(0px 1px 2px rgba(0, 0, 0, 0.3));\n",
       "      fill: #FFFFFF;\n",
       "    }\n",
       "  </style>\n",
       "\n",
       "    <script>\n",
       "      const buttonEl =\n",
       "        document.querySelector('#df-cd5259b8-66b8-4b7a-b8e0-a1232359945d button.colab-df-convert');\n",
       "      buttonEl.style.display =\n",
       "        google.colab.kernel.accessAllowed ? 'block' : 'none';\n",
       "\n",
       "      async function convertToInteractive(key) {\n",
       "        const element = document.querySelector('#df-cd5259b8-66b8-4b7a-b8e0-a1232359945d');\n",
       "        const dataTable =\n",
       "          await google.colab.kernel.invokeFunction('convertToInteractive',\n",
       "                                                    [key], {});\n",
       "        if (!dataTable) return;\n",
       "\n",
       "        const docLinkHtml = 'Like what you see? Visit the ' +\n",
       "          '<a target=\"_blank\" href=https://colab.research.google.com/notebooks/data_table.ipynb>data table notebook</a>'\n",
       "          + ' to learn more about interactive tables.';\n",
       "        element.innerHTML = '';\n",
       "        dataTable['output_type'] = 'display_data';\n",
       "        await google.colab.output.renderOutput(dataTable, element);\n",
       "        const docLink = document.createElement('div');\n",
       "        docLink.innerHTML = docLinkHtml;\n",
       "        element.appendChild(docLink);\n",
       "      }\n",
       "    </script>\n",
       "  </div>\n",
       "\n",
       "\n",
       "<div id=\"df-fa2b0d5f-32a8-4a35-a169-e114121c29e9\">\n",
       "  <button class=\"colab-df-quickchart\" onclick=\"quickchart('df-fa2b0d5f-32a8-4a35-a169-e114121c29e9')\"\n",
       "            title=\"Suggest charts\"\n",
       "            style=\"display:none;\">\n",
       "\n",
       "<svg xmlns=\"http://www.w3.org/2000/svg\" height=\"24px\"viewBox=\"0 0 24 24\"\n",
       "     width=\"24px\">\n",
       "    <g>\n",
       "        <path d=\"M19 3H5c-1.1 0-2 .9-2 2v14c0 1.1.9 2 2 2h14c1.1 0 2-.9 2-2V5c0-1.1-.9-2-2-2zM9 17H7v-7h2v7zm4 0h-2V7h2v10zm4 0h-2v-4h2v4z\"/>\n",
       "    </g>\n",
       "</svg>\n",
       "  </button>\n",
       "\n",
       "<style>\n",
       "  .colab-df-quickchart {\n",
       "      --bg-color: #E8F0FE;\n",
       "      --fill-color: #1967D2;\n",
       "      --hover-bg-color: #E2EBFA;\n",
       "      --hover-fill-color: #174EA6;\n",
       "      --disabled-fill-color: #AAA;\n",
       "      --disabled-bg-color: #DDD;\n",
       "  }\n",
       "\n",
       "  [theme=dark] .colab-df-quickchart {\n",
       "      --bg-color: #3B4455;\n",
       "      --fill-color: #D2E3FC;\n",
       "      --hover-bg-color: #434B5C;\n",
       "      --hover-fill-color: #FFFFFF;\n",
       "      --disabled-bg-color: #3B4455;\n",
       "      --disabled-fill-color: #666;\n",
       "  }\n",
       "\n",
       "  .colab-df-quickchart {\n",
       "    background-color: var(--bg-color);\n",
       "    border: none;\n",
       "    border-radius: 50%;\n",
       "    cursor: pointer;\n",
       "    display: none;\n",
       "    fill: var(--fill-color);\n",
       "    height: 32px;\n",
       "    padding: 0;\n",
       "    width: 32px;\n",
       "  }\n",
       "\n",
       "  .colab-df-quickchart:hover {\n",
       "    background-color: var(--hover-bg-color);\n",
       "    box-shadow: 0 1px 2px rgba(60, 64, 67, 0.3), 0 1px 3px 1px rgba(60, 64, 67, 0.15);\n",
       "    fill: var(--button-hover-fill-color);\n",
       "  }\n",
       "\n",
       "  .colab-df-quickchart-complete:disabled,\n",
       "  .colab-df-quickchart-complete:disabled:hover {\n",
       "    background-color: var(--disabled-bg-color);\n",
       "    fill: var(--disabled-fill-color);\n",
       "    box-shadow: none;\n",
       "  }\n",
       "\n",
       "  .colab-df-spinner {\n",
       "    border: 2px solid var(--fill-color);\n",
       "    border-color: transparent;\n",
       "    border-bottom-color: var(--fill-color);\n",
       "    animation:\n",
       "      spin 1s steps(1) infinite;\n",
       "  }\n",
       "\n",
       "  @keyframes spin {\n",
       "    0% {\n",
       "      border-color: transparent;\n",
       "      border-bottom-color: var(--fill-color);\n",
       "      border-left-color: var(--fill-color);\n",
       "    }\n",
       "    20% {\n",
       "      border-color: transparent;\n",
       "      border-left-color: var(--fill-color);\n",
       "      border-top-color: var(--fill-color);\n",
       "    }\n",
       "    30% {\n",
       "      border-color: transparent;\n",
       "      border-left-color: var(--fill-color);\n",
       "      border-top-color: var(--fill-color);\n",
       "      border-right-color: var(--fill-color);\n",
       "    }\n",
       "    40% {\n",
       "      border-color: transparent;\n",
       "      border-right-color: var(--fill-color);\n",
       "      border-top-color: var(--fill-color);\n",
       "    }\n",
       "    60% {\n",
       "      border-color: transparent;\n",
       "      border-right-color: var(--fill-color);\n",
       "    }\n",
       "    80% {\n",
       "      border-color: transparent;\n",
       "      border-right-color: var(--fill-color);\n",
       "      border-bottom-color: var(--fill-color);\n",
       "    }\n",
       "    90% {\n",
       "      border-color: transparent;\n",
       "      border-bottom-color: var(--fill-color);\n",
       "    }\n",
       "  }\n",
       "</style>\n",
       "\n",
       "  <script>\n",
       "    async function quickchart(key) {\n",
       "      const quickchartButtonEl =\n",
       "        document.querySelector('#' + key + ' button');\n",
       "      quickchartButtonEl.disabled = true;  // To prevent multiple clicks.\n",
       "      quickchartButtonEl.classList.add('colab-df-spinner');\n",
       "      try {\n",
       "        const charts = await google.colab.kernel.invokeFunction(\n",
       "            'suggestCharts', [key], {});\n",
       "      } catch (error) {\n",
       "        console.error('Error during call to suggestCharts:', error);\n",
       "      }\n",
       "      quickchartButtonEl.classList.remove('colab-df-spinner');\n",
       "      quickchartButtonEl.classList.add('colab-df-quickchart-complete');\n",
       "    }\n",
       "    (() => {\n",
       "      let quickchartButtonEl =\n",
       "        document.querySelector('#df-fa2b0d5f-32a8-4a35-a169-e114121c29e9 button');\n",
       "      quickchartButtonEl.style.display =\n",
       "        google.colab.kernel.accessAllowed ? 'block' : 'none';\n",
       "    })();\n",
       "  </script>\n",
       "</div>\n",
       "\n",
       "    </div>\n",
       "  </div>\n"
      ],
      "text/plain": [
       "   Src_Port  Dst_Port  Protocol  Fwd_Pkt_Len_Mean  Bwd_Pkt_Len_Max  \\\n",
       "0 -0.755714  2.349120  0.057529          8.143587        -0.006852   \n",
       "1  1.621551 -0.564903  0.057529         -0.125587         7.258206   \n",
       "2  0.793103 -0.586263  0.057529         -0.116262         0.025970   \n",
       "3 -0.773139  1.333690  0.057529         -0.154840        -0.147091   \n",
       "4  1.945478 -0.564903  0.057529          0.020512         0.557090   \n",
       "\n",
       "   Bwd_Pkt_Len_Mean  Flow_Pkts/s  Bwd_IAT_Tot  Bwd_IAT_Mean  Bwd_IAT_Max  ...  \\\n",
       "0         -0.190394    -0.509322    -0.369186     -0.359349    -0.370303  ...   \n",
       "1          6.361782    -0.511086    -0.316301     -0.357990    -0.329411  ...   \n",
       "2          0.089400    -0.510807    -0.376674     -0.357270    -0.372019  ...   \n",
       "3         -0.250410    -0.509860    -0.378737     -0.361228    -0.374437  ...   \n",
       "4          1.302521    -0.511153    -0.371332     -0.357439    -0.372423  ...   \n",
       "\n",
       "   Pkt_Len_Mean  Pkt_Len_Std  Pkt_Len_Var  SYN_Flag_Cnt  Pkt_Size_Avg  \\\n",
       "0      4.573562     2.983321     0.469744      2.052277      4.330851   \n",
       "1      5.333501     4.281757     0.977089      2.052277      5.012745   \n",
       "2     -0.037344     0.083446    -0.048202      2.052277     -0.042850   \n",
       "3     -0.282737    -0.234104    -0.053297     -0.487264     -0.297061   \n",
       "4      1.012869     0.867111     0.007975      2.052277      0.965162   \n",
       "\n",
       "   Fwd_Seg_Size_Avg  Subflow_Fwd_Byts  Subflow_Bwd_Pkts  Subflow_Bwd_Byts  \\\n",
       "0          8.143587          1.368650          0.231566         -0.028701   \n",
       "1         -0.125587         -0.000675          1.027469          0.954145   \n",
       "2         -0.116262         -0.011785         -0.023999         -0.029403   \n",
       "3         -0.154840         -0.012515         -0.053206         -0.031102   \n",
       "4          0.020512         -0.003892          0.056322         -0.006254   \n",
       "\n",
       "   Init_Bwd_Win_Byts  \n",
       "0           2.467652  \n",
       "1           2.410597  \n",
       "2           2.410597  \n",
       "3           2.410553  \n",
       "4           2.410597  \n",
       "\n",
       "[5 rows x 25 columns]"
      ]
     },
     "execution_count": 12,
     "metadata": {},
     "output_type": "execute_result"
    }
   ],
   "source": [
    "data.head()"
   ]
  },
  {
   "cell_type": "code",
   "execution_count": 3,
   "metadata": {
    "id": "onMyxBYmlqgJ"
   },
   "outputs": [],
   "source": [
    "y=labels['Label'].values"
   ]
  },
  {
   "cell_type": "code",
   "execution_count": 4,
   "metadata": {
    "id": "f6ZAVVVWlx9i"
   },
   "outputs": [],
   "source": [
    "#label encoding initialise phase\n",
    "le = LabelEncoder()\n",
    "y = le.fit_transform(y)"
   ]
  },
  {
   "cell_type": "code",
   "execution_count": 5,
   "metadata": {
    "id": "VKmB_zA4miRv"
   },
   "outputs": [],
   "source": [
    "#scaling\n",
    "scaler = StandardScaler()\n",
    "X = scaler.fit_transform(data)"
   ]
  },
  {
   "cell_type": "code",
   "execution_count": 6,
   "metadata": {
    "colab": {
     "base_uri": "https://localhost:8080/"
    },
    "id": "HP3QhdfUmvNk",
    "outputId": "e92ba8f0-8afe-4b80-9365-04b54b0e9e69"
   },
   "outputs": [
    {
     "data": {
      "text/plain": [
       "array([[0., 1., 0.],\n",
       "       [0., 1., 0.],\n",
       "       [0., 1., 0.],\n",
       "       ...,\n",
       "       [0., 0., 1.],\n",
       "       [0., 0., 1.],\n",
       "       [0., 0., 1.]], dtype=float32)"
      ]
     },
     "execution_count": 6,
     "metadata": {},
     "output_type": "execute_result"
    }
   ],
   "source": [
    "#converting labels to one hot encoded format\n",
    "num_classes = 3\n",
    "y = to_categorical(y,num_classes=num_classes)\n",
    "y"
   ]
  },
  {
   "cell_type": "code",
   "execution_count": 7,
   "metadata": {
    "id": "YEFT8Y7_m9Gk"
   },
   "outputs": [],
   "source": [
    "#splitting of train and test\n",
    "X_train, X_test, y_train, y_test = train_test_split(X,y,test_size=0.2,random_state=42,stratify=y)"
   ]
  },
  {
   "cell_type": "code",
   "execution_count": 8,
   "metadata": {
    "id": "Px7oK9t-nQQz"
   },
   "outputs": [],
   "source": [
    "X_train = X_train.reshape((X_train.shape[0], 1, X_train.shape[1]))\n",
    "X_test = X_test.reshape((X_test.shape[0], 1, X_test.shape[1]))"
   ]
  },
  {
   "cell_type": "code",
   "execution_count": 9,
   "metadata": {
    "id": "oghBbLKtneKj"
   },
   "outputs": [],
   "source": [
    "#LSTM model defining\n",
    "model = Sequential()\n",
    "model.add(LSTM(units=80, input_shape=(1,X_train.shape[2]), return_sequences=True,kernel_regularizer='l2'))\n",
    "model.add(Dropout(0.2))\n",
    "model.add(LSTM(units=40,kernel_regularizer='l2'))\n",
    "model.add(Dropout(0.2))\n",
    "model.add(Dense(num_classes, activation='softmax'))"
   ]
  },
  {
   "cell_type": "code",
   "execution_count": 11,
   "metadata": {
    "colab": {
     "base_uri": "https://localhost:8080/"
    },
    "id": "8CK1vxvxnkjz",
    "outputId": "26a6758d-8a44-470f-bb30-546c70f59312"
   },
   "outputs": [
    {
     "name": "stdout",
     "output_type": "stream",
     "text": [
      "Model: \"sequential\"\n",
      "_________________________________________________________________\n",
      " Layer (type)                Output Shape              Param #   \n",
      "=================================================================\n",
      " lstm (LSTM)                 (None, 1, 80)             33920     \n",
      "                                                                 \n",
      " dropout (Dropout)           (None, 1, 80)             0         \n",
      "                                                                 \n",
      " lstm_1 (LSTM)               (None, 40)                19360     \n",
      "                                                                 \n",
      " dropout_1 (Dropout)         (None, 40)                0         \n",
      "                                                                 \n",
      " dense (Dense)               (None, 3)                 123       \n",
      "                                                                 \n",
      "=================================================================\n",
      "Total params: 53403 (208.61 KB)\n",
      "Trainable params: 53403 (208.61 KB)\n",
      "Non-trainable params: 0 (0.00 Byte)\n",
      "_________________________________________________________________\n"
     ]
    }
   ],
   "source": [
    "model.summary()"
   ]
  },
  {
   "cell_type": "code",
   "execution_count": 13,
   "metadata": {
    "id": "a1HNwLyGoB56"
   },
   "outputs": [],
   "source": [
    "model.compile(loss='categorical_crossentropy', optimizer='adam', metrics=['accuracy'])"
   ]
  },
  {
   "cell_type": "code",
   "execution_count": 14,
   "metadata": {
    "id": "Go_HNJ1VoH3o"
   },
   "outputs": [],
   "source": [
    "# Define the early stopping monitor and patience\n",
    "early_stopping_monitor = 'loss'\n",
    "patience = 10"
   ]
  },
  {
   "cell_type": "code",
   "execution_count": 15,
   "metadata": {
    "id": "m7EG6kvJoJ1I"
   },
   "outputs": [],
   "source": [
    "# Create an instance of the EarlyStopping callback\n",
    "early_stopping = EarlyStopping(monitor=early_stopping_monitor, patience=patience, verbose=1, restore_best_weights=True)\n",
    "\n",
    "# Add the early stopping callback to the model's callbacks\n",
    "callbacks = [early_stopping]\n"
   ]
  },
  {
   "cell_type": "code",
   "execution_count": 16,
   "metadata": {
    "colab": {
     "base_uri": "https://localhost:8080/"
    },
    "id": "Zj3_4cwNoVj1",
    "outputId": "41f440d3-38d5-49f4-9191-979f29af72ff"
   },
   "outputs": [
    {
     "name": "stdout",
     "output_type": "stream",
     "text": [
      "Epoch 1/100\n",
      "5093/5093 [==============================] - 42s 7ms/step - loss: 0.1659 - accuracy: 0.9853 - val_loss: 0.0697 - val_accuracy: 0.9915\n",
      "Epoch 2/100\n",
      "5093/5093 [==============================] - 37s 7ms/step - loss: 0.0689 - accuracy: 0.9920 - val_loss: 0.0599 - val_accuracy: 0.9924\n",
      "Epoch 3/100\n",
      "5093/5093 [==============================] - 36s 7ms/step - loss: 0.0609 - accuracy: 0.9924 - val_loss: 0.0558 - val_accuracy: 0.9934\n",
      "Epoch 4/100\n",
      "5093/5093 [==============================] - 40s 8ms/step - loss: 0.0571 - accuracy: 0.9924 - val_loss: 0.0502 - val_accuracy: 0.9930\n",
      "Epoch 5/100\n",
      "5093/5093 [==============================] - 37s 7ms/step - loss: 0.0552 - accuracy: 0.9926 - val_loss: 0.0480 - val_accuracy: 0.9934\n",
      "Epoch 6/100\n",
      "5093/5093 [==============================] - 36s 7ms/step - loss: 0.0534 - accuracy: 0.9927 - val_loss: 0.0452 - val_accuracy: 0.9934\n",
      "Epoch 7/100\n",
      "5093/5093 [==============================] - 40s 8ms/step - loss: 0.0532 - accuracy: 0.9926 - val_loss: 0.0449 - val_accuracy: 0.9929\n",
      "Epoch 8/100\n",
      "5093/5093 [==============================] - 41s 8ms/step - loss: 0.0518 - accuracy: 0.9926 - val_loss: 0.0454 - val_accuracy: 0.9933\n",
      "Epoch 9/100\n",
      "5093/5093 [==============================] - 36s 7ms/step - loss: 0.0521 - accuracy: 0.9927 - val_loss: 0.0445 - val_accuracy: 0.9940\n",
      "Epoch 10/100\n",
      "5093/5093 [==============================] - 36s 7ms/step - loss: 0.0507 - accuracy: 0.9928 - val_loss: 0.0459 - val_accuracy: 0.9929\n",
      "Epoch 11/100\n",
      "5093/5093 [==============================] - 35s 7ms/step - loss: 0.0504 - accuracy: 0.9927 - val_loss: 0.0459 - val_accuracy: 0.9931\n",
      "Epoch 12/100\n",
      "5093/5093 [==============================] - 38s 7ms/step - loss: 0.0504 - accuracy: 0.9928 - val_loss: 0.0519 - val_accuracy: 0.9938\n",
      "Epoch 13/100\n",
      "5093/5093 [==============================] - 39s 8ms/step - loss: 0.0504 - accuracy: 0.9928 - val_loss: 0.0459 - val_accuracy: 0.9928\n",
      "Epoch 14/100\n",
      "5093/5093 [==============================] - 37s 7ms/step - loss: 0.0497 - accuracy: 0.9927 - val_loss: 0.0410 - val_accuracy: 0.9933\n",
      "Epoch 15/100\n",
      "5093/5093 [==============================] - 34s 7ms/step - loss: 0.0504 - accuracy: 0.9927 - val_loss: 0.0457 - val_accuracy: 0.9932\n",
      "Epoch 16/100\n",
      "5093/5093 [==============================] - 37s 7ms/step - loss: 0.0496 - accuracy: 0.9927 - val_loss: 0.0443 - val_accuracy: 0.9931\n",
      "Epoch 17/100\n",
      "5093/5093 [==============================] - 35s 7ms/step - loss: 0.0497 - accuracy: 0.9927 - val_loss: 0.0439 - val_accuracy: 0.9935\n",
      "Epoch 18/100\n",
      "5093/5093 [==============================] - 37s 7ms/step - loss: 0.0494 - accuracy: 0.9928 - val_loss: 0.0413 - val_accuracy: 0.9939\n",
      "Epoch 19/100\n",
      "5093/5093 [==============================] - 37s 7ms/step - loss: 0.0495 - accuracy: 0.9926 - val_loss: 0.0492 - val_accuracy: 0.9925\n",
      "Epoch 20/100\n",
      "5093/5093 [==============================] - 34s 7ms/step - loss: 0.0492 - accuracy: 0.9926 - val_loss: 0.0400 - val_accuracy: 0.9936\n",
      "Epoch 21/100\n",
      "5093/5093 [==============================] - 35s 7ms/step - loss: 0.0485 - accuracy: 0.9929 - val_loss: 0.0432 - val_accuracy: 0.9936\n",
      "Epoch 22/100\n",
      "5093/5093 [==============================] - 33s 7ms/step - loss: 0.0490 - accuracy: 0.9927 - val_loss: 0.0422 - val_accuracy: 0.9938\n",
      "Epoch 23/100\n",
      "5093/5093 [==============================] - 34s 7ms/step - loss: 0.0490 - accuracy: 0.9927 - val_loss: 0.0427 - val_accuracy: 0.9934\n",
      "Epoch 24/100\n",
      "5093/5093 [==============================] - 35s 7ms/step - loss: 0.0485 - accuracy: 0.9927 - val_loss: 0.0406 - val_accuracy: 0.9942\n",
      "Epoch 25/100\n",
      "5093/5093 [==============================] - 35s 7ms/step - loss: 0.0477 - accuracy: 0.9928 - val_loss: 0.0466 - val_accuracy: 0.9940\n",
      "Epoch 26/100\n",
      "5093/5093 [==============================] - 30s 6ms/step - loss: 0.0488 - accuracy: 0.9926 - val_loss: 0.0666 - val_accuracy: 0.9863\n",
      "Epoch 27/100\n",
      "5093/5093 [==============================] - 29s 6ms/step - loss: 0.0485 - accuracy: 0.9927 - val_loss: 0.0400 - val_accuracy: 0.9941\n",
      "Epoch 28/100\n",
      "5093/5093 [==============================] - 31s 6ms/step - loss: 0.0489 - accuracy: 0.9927 - val_loss: 0.0434 - val_accuracy: 0.9938\n",
      "Epoch 29/100\n",
      "5093/5093 [==============================] - 33s 7ms/step - loss: 0.0489 - accuracy: 0.9927 - val_loss: 0.0402 - val_accuracy: 0.9936\n",
      "Epoch 30/100\n",
      "5093/5093 [==============================] - 32s 6ms/step - loss: 0.0483 - accuracy: 0.9927 - val_loss: 0.0422 - val_accuracy: 0.9938\n",
      "Epoch 31/100\n",
      "5093/5093 [==============================] - 33s 7ms/step - loss: 0.0491 - accuracy: 0.9926 - val_loss: 0.0439 - val_accuracy: 0.9939\n",
      "Epoch 32/100\n",
      "5093/5093 [==============================] - 32s 6ms/step - loss: 0.0472 - accuracy: 0.9928 - val_loss: 0.0414 - val_accuracy: 0.9935\n",
      "Epoch 33/100\n",
      "5093/5093 [==============================] - 30s 6ms/step - loss: 0.0477 - accuracy: 0.9929 - val_loss: 0.0391 - val_accuracy: 0.9936\n",
      "Epoch 34/100\n",
      "5093/5093 [==============================] - 33s 6ms/step - loss: 0.0482 - accuracy: 0.9928 - val_loss: 0.0385 - val_accuracy: 0.9939\n",
      "Epoch 35/100\n",
      "5093/5093 [==============================] - 32s 6ms/step - loss: 0.0477 - accuracy: 0.9929 - val_loss: 0.0414 - val_accuracy: 0.9935\n",
      "Epoch 36/100\n",
      "5093/5093 [==============================] - 31s 6ms/step - loss: 0.0473 - accuracy: 0.9928 - val_loss: 0.0429 - val_accuracy: 0.9939\n",
      "Epoch 37/100\n",
      "5093/5093 [==============================] - 35s 7ms/step - loss: 0.0492 - accuracy: 0.9925 - val_loss: 0.0409 - val_accuracy: 0.9933\n",
      "Epoch 38/100\n",
      "5093/5093 [==============================] - 31s 6ms/step - loss: 0.0472 - accuracy: 0.9928 - val_loss: 0.0436 - val_accuracy: 0.9939\n",
      "Epoch 39/100\n",
      "5093/5093 [==============================] - 31s 6ms/step - loss: 0.0474 - accuracy: 0.9929 - val_loss: 0.0505 - val_accuracy: 0.9918\n",
      "Epoch 40/100\n",
      "5093/5093 [==============================] - 34s 7ms/step - loss: 0.0483 - accuracy: 0.9925 - val_loss: 0.0411 - val_accuracy: 0.9931\n",
      "Epoch 41/100\n",
      "5093/5093 [==============================] - 31s 6ms/step - loss: 0.0481 - accuracy: 0.9927 - val_loss: 0.0385 - val_accuracy: 0.9935\n",
      "Epoch 42/100\n",
      "5093/5093 [==============================] - 31s 6ms/step - loss: 0.0473 - accuracy: 0.9928 - val_loss: 0.0380 - val_accuracy: 0.9941\n",
      "Epoch 43/100\n",
      "5093/5093 [==============================] - 33s 7ms/step - loss: 0.0472 - accuracy: 0.9929 - val_loss: 0.0440 - val_accuracy: 0.9934\n",
      "Epoch 44/100\n",
      "5093/5093 [==============================] - 33s 6ms/step - loss: 0.0469 - accuracy: 0.9928 - val_loss: 0.0510 - val_accuracy: 0.9931\n",
      "Epoch 45/100\n",
      "5093/5093 [==============================] - 33s 7ms/step - loss: 0.0478 - accuracy: 0.9928 - val_loss: 0.0377 - val_accuracy: 0.9940\n",
      "Epoch 46/100\n",
      "5093/5093 [==============================] - 31s 6ms/step - loss: 0.0476 - accuracy: 0.9927 - val_loss: 0.0421 - val_accuracy: 0.9938\n",
      "Epoch 47/100\n",
      "5093/5093 [==============================] - 32s 6ms/step - loss: 0.0474 - accuracy: 0.9927 - val_loss: 0.0418 - val_accuracy: 0.9938\n",
      "Epoch 48/100\n",
      "5093/5093 [==============================] - 34s 7ms/step - loss: 0.0474 - accuracy: 0.9926 - val_loss: 0.0460 - val_accuracy: 0.9934\n",
      "Epoch 49/100\n",
      "5093/5093 [==============================] - 31s 6ms/step - loss: 0.0469 - accuracy: 0.9928 - val_loss: 0.0425 - val_accuracy: 0.9939\n",
      "Epoch 50/100\n",
      "5093/5093 [==============================] - 34s 7ms/step - loss: 0.0478 - accuracy: 0.9929 - val_loss: 0.0371 - val_accuracy: 0.9941\n",
      "Epoch 51/100\n",
      "5093/5093 [==============================] - 31s 6ms/step - loss: 0.0482 - accuracy: 0.9927 - val_loss: 0.0503 - val_accuracy: 0.9941\n",
      "Epoch 52/100\n",
      "5093/5093 [==============================] - 31s 6ms/step - loss: 0.0481 - accuracy: 0.9927 - val_loss: 0.0404 - val_accuracy: 0.9933\n",
      "Epoch 53/100\n",
      "5093/5093 [==============================] - 32s 6ms/step - loss: 0.0478 - accuracy: 0.9928 - val_loss: 0.0395 - val_accuracy: 0.9941\n",
      "Epoch 54/100\n",
      "5087/5093 [============================>.] - ETA: 0s - loss: 0.0470 - accuracy: 0.9929Restoring model weights from the end of the best epoch: 44.\n",
      "5093/5093 [==============================] - 33s 6ms/step - loss: 0.0470 - accuracy: 0.9929 - val_loss: 0.0374 - val_accuracy: 0.9940\n",
      "Epoch 54: early stopping\n"
     ]
    }
   ],
   "source": [
    "# Train the model with early stopping\n",
    "history = model.fit(X_train, y_train, epochs=100, batch_size=32, validation_data=(X_test, y_test), callbacks=callbacks)\n"
   ]
  },
  {
   "cell_type": "code",
   "execution_count": 17,
   "metadata": {
    "colab": {
     "base_uri": "https://localhost:8080/"
    },
    "id": "B-6btzr2vqjg",
    "outputId": "06fba22f-c06e-4943-9a2d-78d865774329"
   },
   "outputs": [
    {
     "name": "stdout",
     "output_type": "stream",
     "text": [
      "1274/1274 [==============================] - 5s 3ms/step\n"
     ]
    }
   ],
   "source": [
    "y_pred = model.predict(X_test)\n",
    "y_pred = np.round(y_pred)"
   ]
  },
  {
   "cell_type": "code",
   "execution_count": 18,
   "metadata": {
    "colab": {
     "base_uri": "https://localhost:8080/"
    },
    "id": "AGhz3G5LvvPU",
    "outputId": "4e33ee7c-c149-43ea-cbf6-11a0de6fa89c"
   },
   "outputs": [
    {
     "name": "stdout",
     "output_type": "stream",
     "text": [
      "              precision    recall  f1-score   support\n",
      "\n",
      "           0       0.99      1.00      1.00     14706\n",
      "           1       1.00      0.98      0.99     13685\n",
      "           2       0.98      1.00      0.99     12351\n",
      "\n",
      "   micro avg       0.99      0.99      0.99     40742\n",
      "   macro avg       0.99      0.99      0.99     40742\n",
      "weighted avg       0.99      0.99      0.99     40742\n",
      " samples avg       0.99      0.99      0.99     40742\n",
      "\n"
     ]
    },
    {
     "name": "stderr",
     "output_type": "stream",
     "text": [
      "/usr/local/lib/python3.10/dist-packages/sklearn/metrics/_classification.py:1344: UndefinedMetricWarning: Precision and F-score are ill-defined and being set to 0.0 in samples with no predicted labels. Use `zero_division` parameter to control this behavior.\n",
      "  _warn_prf(average, modifier, msg_start, len(result))\n"
     ]
    }
   ],
   "source": [
    "print(classification_report(y_test, y_pred,zero_division='warn'))"
   ]
  },
  {
   "cell_type": "code",
   "execution_count": 22,
   "metadata": {
    "id": "WLG1YMy7v6Wq"
   },
   "outputs": [],
   "source": [
    "y_test_labels = y_test.argmax(axis=1)\n",
    "#fit and transform the labels\n",
    "y_true_encoded = le.fit_transform(y_test_labels)\n",
    "#convert predicted probability to labels\n",
    "y_pred_labels = np.argmax(y_pred,axis=1)"
   ]
  },
  {
   "cell_type": "code",
   "execution_count": 23,
   "metadata": {
    "colab": {
     "base_uri": "https://localhost:8080/"
    },
    "id": "-bgFjGzdxGU4",
    "outputId": "12aa5b82-7a97-4157-bc43-b1100641606e"
   },
   "outputs": [
    {
     "data": {
      "text/plain": [
       "array([[14698,     0,     8],\n",
       "       [   78, 13419,   188],\n",
       "       [    0,     7, 12344]])"
      ]
     },
     "execution_count": 23,
     "metadata": {},
     "output_type": "execute_result"
    }
   ],
   "source": [
    "#confusion matrix for the test set\n",
    "confusion_mat = confusion_matrix(y_true_encoded,y_pred_labels)\n",
    "confusion_mat"
   ]
  },
  {
   "cell_type": "code",
   "execution_count": 24,
   "metadata": {
    "colab": {
     "base_uri": "https://localhost:8080/",
     "height": 506
    },
    "id": "H9t514VlxlpM",
    "outputId": "3f425a93-520f-4fd6-a058-fde385039020"
   },
   "outputs": [
    {
     "data": {
      "image/png": "[encoded data removed]",
      "text/plain": [
       "<Figure size 640x480 with 2 Axes>"
      ]
     },
     "metadata": {},
     "output_type": "display_data"
    }
   ],
   "source": [
    "import itertools\n",
    "import matplotlib.pyplot as plt\n",
    "def plot_confusion_matrix(conf_matrix, classes, title):\n",
    "    plt.imshow(conf_matrix, interpolation='nearest', cmap=plt.cm.Blues)\n",
    "    plt.title(title)\n",
    "    plt.colorbar()\n",
    "    tick_marks = np.arange(len(classes))\n",
    "    plt.xticks(tick_marks, classes, rotation=45)\n",
    "    plt.yticks(tick_marks, classes)\n",
    "\n",
    "    fmt = 'd'\n",
    "    thresh = conf_matrix.max() / 2.\n",
    "    for i, j in itertools.product(range(conf_matrix.shape[0]), range(conf_matrix.shape[1])):\n",
    "        plt.text(j, i, format(conf_matrix[i, j], fmt),\n",
    "                 horizontalalignment=\"center\",\n",
    "                 color=\"white\" if conf_matrix[i, j] > thresh else \"black\")\n",
    "\n",
    "    plt.tight_layout()\n",
    "    plt.ylabel('True Label')\n",
    "    plt.xlabel('Predicted Label')\n",
    "\n",
    "plot_confusion_matrix(confusion_mat, ['DDoS', 'Normal', 'Probe'], \"Confusion Matrix\")\n",
    "plt.show()"
   ]
  },
  {
   "cell_type": "code",
   "execution_count": 26,
   "metadata": {
    "colab": {
     "base_uri": "https://localhost:8080/"
    },
    "id": "tsX99kflyljH",
    "outputId": "90f7096e-8e6e-462c-d548-8bb031fc93cb"
   },
   "outputs": [
    {
     "name": "stdout",
     "output_type": "stream",
     "text": [
      "Requirement already satisfied: pydotplus in /usr/local/lib/python3.10/dist-packages (2.0.2)\n",
      "Requirement already satisfied: pyparsing>=2.0.1 in /usr/local/lib/python3.10/dist-packages (from pydotplus) (3.1.1)\n"
     ]
    }
   ],
   "source": [
    "!pip install pydotplus"
   ]
  },
  {
   "cell_type": "code",
   "execution_count": 29,
   "metadata": {
    "colab": {
     "base_uri": "https://localhost:8080/",
     "height": 644
    },
    "id": "DLlTKqFgyc2p",
    "outputId": "d864ead3-a57b-4f9c-d15a-2366d32244cc"
   },
   "outputs": [
    {
     "data": {
      "image/png": "[encoded data removed]",
      "text/plain": [
       "<IPython.core.display.Image object>"
      ]
     },
     "execution_count": 29,
     "metadata": {},
     "output_type": "execute_result"
    }
   ],
   "source": [
    "# Plot the model architecture\n",
    "import pydotplus\n",
    "from keras.utils import plot_model\n",
    "plot_model(model, to_file='lstm_model.png', show_shapes=True, show_layer_names=True)"
   ]
  }
 ],
 "metadata": {
  "colab": {
   "provenance": []
  },
  "kernelspec": {
   "display_name": "Python 3 (ipykernel)",
   "language": "python",
   "name": "python3"
  },
  "language_info": {
   "codemirror_mode": {
    "name": "ipython",
    "version": 3
   },
   "file_extension": ".py",
   "mimetype": "text/x-python",
   "name": "python",
   "nbconvert_exporter": "python",
   "pygments_lexer": "ipython3",
   "version": "3.10.12"
  }
 },
 "nbformat": 4,
 "nbformat_minor": 4
}
