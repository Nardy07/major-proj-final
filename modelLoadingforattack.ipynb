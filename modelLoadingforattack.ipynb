{
 "cells": [
  {
   "cell_type": "code",
   "execution_count": 1,
   "id": "058f00c8-3e44-4684-8d48-4f1f9277f5a8",
   "metadata": {},
   "outputs": [
    {
     "name": "stderr",
     "output_type": "stream",
     "text": [
      "2024-03-03 00:35:52.281418: I external/local_tsl/tsl/cuda/cudart_stub.cc:31] Could not find cuda drivers on your machine, GPU will not be used.\n",
      "2024-03-03 00:35:52.318631: E external/local_xla/xla/stream_executor/cuda/cuda_dnn.cc:9261] Unable to register cuDNN factory: Attempting to register factory for plugin cuDNN when one has already been registered\n",
      "2024-03-03 00:35:52.318654: E external/local_xla/xla/stream_executor/cuda/cuda_fft.cc:607] Unable to register cuFFT factory: Attempting to register factory for plugin cuFFT when one has already been registered\n",
      "2024-03-03 00:35:52.319743: E external/local_xla/xla/stream_executor/cuda/cuda_blas.cc:1515] Unable to register cuBLAS factory: Attempting to register factory for plugin cuBLAS when one has already been registered\n",
      "2024-03-03 00:35:52.325566: I external/local_tsl/tsl/cuda/cudart_stub.cc:31] Could not find cuda drivers on your machine, GPU will not be used.\n",
      "2024-03-03 00:35:52.326051: I tensorflow/core/platform/cpu_feature_guard.cc:182] This TensorFlow binary is optimized to use available CPU instructions in performance-critical operations.\n",
      "To enable the following instructions: AVX2 FMA, in other operations, rebuild TensorFlow with the appropriate compiler flags.\n",
      "2024-03-03 00:35:53.121706: W tensorflow/compiler/tf2tensorrt/utils/py_utils.cc:38] TF-TRT Warning: Could not find TensorRT\n",
      "/home/iskadoodle/.local/lib/python3.10/site-packages/matplotlib/projections/__init__.py:63: UserWarning: Unable to import Axes3D. This may be due to multiple versions of Matplotlib being installed (e.g. as a system package and as a pip package). As a result, the 3D projection is not available.\n",
      "  warnings.warn(\"Unable to import Axes3D. This may be due to multiple versions of \"\n"
     ]
    }
   ],
   "source": [
    "import pandas as pd\n",
    "import numpy as np\n",
    "from keras.utils import to_categorical\n",
    "import matplotlib.pyplot as plt"
   ]
  },
  {
   "cell_type": "code",
   "execution_count": 2,
   "id": "f36d6757-237a-41c9-a363-e3d0620e12e7",
   "metadata": {},
   "outputs": [],
   "source": [
    "from sklearn.preprocessing import LabelEncoder\n",
    "from keras.models import load_model"
   ]
  },
  {
   "cell_type": "code",
   "execution_count": 3,
   "id": "e51e8670-07a8-4287-a242-eb89c7a6dc2e",
   "metadata": {},
   "outputs": [],
   "source": [
    "from sklearn.metrics import accuracy_score # for calculating accuracy of model\n",
    "from sklearn.metrics import classification_report\n"
   ]
  },
  {
   "cell_type": "code",
   "execution_count": 4,
   "id": "89907343-6e69-4be0-822b-28dfcee7bfcf",
   "metadata": {},
   "outputs": [],
   "source": [
    "X_new = pd.read_csv('xtestatt.csv')\n",
    "y_new = pd.read_csv('ytestatt.csv')"
   ]
  },
  {
   "cell_type": "code",
   "execution_count": 5,
   "id": "66adb88a-7bef-4ada-b7f0-c08056b75d44",
   "metadata": {},
   "outputs": [
    {
     "data": {
      "text/html": [
       "<div>\n",
       "<style scoped>\n",
       "    .dataframe tbody tr th:only-of-type {\n",
       "        vertical-align: middle;\n",
       "    }\n",
       "\n",
       "    .dataframe tbody tr th {\n",
       "        vertical-align: top;\n",
       "    }\n",
       "\n",
       "    .dataframe thead th {\n",
       "        text-align: right;\n",
       "    }\n",
       "</style>\n",
       "<table border=\"1\" class=\"dataframe\">\n",
       "  <thead>\n",
       "    <tr style=\"text-align: right;\">\n",
       "      <th></th>\n",
       "      <th>src_port</th>\n",
       "      <th>dst_port</th>\n",
       "      <th>protocol</th>\n",
       "      <th>flow_pkts_s</th>\n",
       "      <th>flow_iat_max</th>\n",
       "      <th>bwd_iat_tot</th>\n",
       "      <th>bwd_iat_max</th>\n",
       "      <th>bwd_header_len</th>\n",
       "      <th>bwd_pkts_s</th>\n",
       "      <th>init_bwd_win_byts</th>\n",
       "    </tr>\n",
       "  </thead>\n",
       "  <tbody>\n",
       "    <tr>\n",
       "      <th>0</th>\n",
       "      <td>64329</td>\n",
       "      <td>4255</td>\n",
       "      <td>6</td>\n",
       "      <td>1.816240</td>\n",
       "      <td>0</td>\n",
       "      <td>0</td>\n",
       "      <td>0</td>\n",
       "      <td>20</td>\n",
       "      <td>0.908120</td>\n",
       "      <td>0</td>\n",
       "    </tr>\n",
       "    <tr>\n",
       "      <th>1</th>\n",
       "      <td>64329</td>\n",
       "      <td>4980</td>\n",
       "      <td>6</td>\n",
       "      <td>45.920007</td>\n",
       "      <td>0</td>\n",
       "      <td>0</td>\n",
       "      <td>0</td>\n",
       "      <td>20</td>\n",
       "      <td>22.960004</td>\n",
       "      <td>0</td>\n",
       "    </tr>\n",
       "    <tr>\n",
       "      <th>2</th>\n",
       "      <td>64329</td>\n",
       "      <td>2379</td>\n",
       "      <td>6</td>\n",
       "      <td>2.004488</td>\n",
       "      <td>0</td>\n",
       "      <td>0</td>\n",
       "      <td>0</td>\n",
       "      <td>20</td>\n",
       "      <td>1.002244</td>\n",
       "      <td>0</td>\n",
       "    </tr>\n",
       "    <tr>\n",
       "      <th>3</th>\n",
       "      <td>64329</td>\n",
       "      <td>2242</td>\n",
       "      <td>6</td>\n",
       "      <td>35.864147</td>\n",
       "      <td>0</td>\n",
       "      <td>0</td>\n",
       "      <td>0</td>\n",
       "      <td>20</td>\n",
       "      <td>17.932073</td>\n",
       "      <td>0</td>\n",
       "    </tr>\n",
       "    <tr>\n",
       "      <th>4</th>\n",
       "      <td>64329</td>\n",
       "      <td>3330</td>\n",
       "      <td>6</td>\n",
       "      <td>8.286824</td>\n",
       "      <td>0</td>\n",
       "      <td>0</td>\n",
       "      <td>0</td>\n",
       "      <td>20</td>\n",
       "      <td>4.143412</td>\n",
       "      <td>0</td>\n",
       "    </tr>\n",
       "    <tr>\n",
       "      <th>...</th>\n",
       "      <td>...</td>\n",
       "      <td>...</td>\n",
       "      <td>...</td>\n",
       "      <td>...</td>\n",
       "      <td>...</td>\n",
       "      <td>...</td>\n",
       "      <td>...</td>\n",
       "      <td>...</td>\n",
       "      <td>...</td>\n",
       "      <td>...</td>\n",
       "    </tr>\n",
       "    <tr>\n",
       "      <th>9497</th>\n",
       "      <td>64329</td>\n",
       "      <td>4120</td>\n",
       "      <td>6</td>\n",
       "      <td>61.506289</td>\n",
       "      <td>0</td>\n",
       "      <td>0</td>\n",
       "      <td>0</td>\n",
       "      <td>20</td>\n",
       "      <td>30.753145</td>\n",
       "      <td>0</td>\n",
       "    </tr>\n",
       "    <tr>\n",
       "      <th>9498</th>\n",
       "      <td>64329</td>\n",
       "      <td>1153</td>\n",
       "      <td>6</td>\n",
       "      <td>60.034820</td>\n",
       "      <td>0</td>\n",
       "      <td>0</td>\n",
       "      <td>0</td>\n",
       "      <td>20</td>\n",
       "      <td>30.017410</td>\n",
       "      <td>0</td>\n",
       "    </tr>\n",
       "    <tr>\n",
       "      <th>9499</th>\n",
       "      <td>64329</td>\n",
       "      <td>3036</td>\n",
       "      <td>6</td>\n",
       "      <td>41.085478</td>\n",
       "      <td>0</td>\n",
       "      <td>0</td>\n",
       "      <td>0</td>\n",
       "      <td>20</td>\n",
       "      <td>20.542739</td>\n",
       "      <td>0</td>\n",
       "    </tr>\n",
       "    <tr>\n",
       "      <th>9500</th>\n",
       "      <td>3802</td>\n",
       "      <td>80</td>\n",
       "      <td>6</td>\n",
       "      <td>2.148192</td>\n",
       "      <td>3491862</td>\n",
       "      <td>10434287</td>\n",
       "      <td>3491862</td>\n",
       "      <td>180</td>\n",
       "      <td>0.840597</td>\n",
       "      <td>0</td>\n",
       "    </tr>\n",
       "    <tr>\n",
       "      <th>9501</th>\n",
       "      <td>64329</td>\n",
       "      <td>2508</td>\n",
       "      <td>6</td>\n",
       "      <td>2.153080</td>\n",
       "      <td>0</td>\n",
       "      <td>0</td>\n",
       "      <td>0</td>\n",
       "      <td>20</td>\n",
       "      <td>1.076540</td>\n",
       "      <td>0</td>\n",
       "    </tr>\n",
       "  </tbody>\n",
       "</table>\n",
       "<p>9502 rows × 10 columns</p>\n",
       "</div>"
      ],
      "text/plain": [
       "      src_port  dst_port  protocol  flow_pkts_s  flow_iat_max  bwd_iat_tot  \\\n",
       "0        64329      4255         6     1.816240             0            0   \n",
       "1        64329      4980         6    45.920007             0            0   \n",
       "2        64329      2379         6     2.004488             0            0   \n",
       "3        64329      2242         6    35.864147             0            0   \n",
       "4        64329      3330         6     8.286824             0            0   \n",
       "...        ...       ...       ...          ...           ...          ...   \n",
       "9497     64329      4120         6    61.506289             0            0   \n",
       "9498     64329      1153         6    60.034820             0            0   \n",
       "9499     64329      3036         6    41.085478             0            0   \n",
       "9500      3802        80         6     2.148192       3491862     10434287   \n",
       "9501     64329      2508         6     2.153080             0            0   \n",
       "\n",
       "      bwd_iat_max  bwd_header_len  bwd_pkts_s  init_bwd_win_byts  \n",
       "0               0              20    0.908120                  0  \n",
       "1               0              20   22.960004                  0  \n",
       "2               0              20    1.002244                  0  \n",
       "3               0              20   17.932073                  0  \n",
       "4               0              20    4.143412                  0  \n",
       "...           ...             ...         ...                ...  \n",
       "9497            0              20   30.753145                  0  \n",
       "9498            0              20   30.017410                  0  \n",
       "9499            0              20   20.542739                  0  \n",
       "9500      3491862             180    0.840597                  0  \n",
       "9501            0              20    1.076540                  0  \n",
       "\n",
       "[9502 rows x 10 columns]"
      ]
     },
     "execution_count": 5,
     "metadata": {},
     "output_type": "execute_result"
    }
   ],
   "source": [
    "X_new"
   ]
  },
  {
   "cell_type": "code",
   "execution_count": 6,
   "id": "cdcdc44a-1df7-401a-b584-edc9964143c1",
   "metadata": {},
   "outputs": [
    {
     "name": "stderr",
     "output_type": "stream",
     "text": [
      "/home/iskadoodle/.local/lib/python3.10/site-packages/sklearn/preprocessing/_label.py:114: DataConversionWarning: A column-vector y was passed when a 1d array was expected. Please change the shape of y to (n_samples, ), for example using ravel().\n",
      "  y = column_or_1d(y, warn=True)\n"
     ]
    }
   ],
   "source": [
    "y1 = y_new\n",
    "le = LabelEncoder()\n",
    "y_new = le.fit_transform(y_new)"
   ]
  },
  {
   "cell_type": "code",
   "execution_count": 7,
   "id": "296cfe8c-8e18-4f39-bb2c-d7c8f992652f",
   "metadata": {},
   "outputs": [
    {
     "data": {
      "text/plain": [
       "array([1, 1, 1, ..., 1, 0, 1])"
      ]
     },
     "execution_count": 7,
     "metadata": {},
     "output_type": "execute_result"
    }
   ],
   "source": [
    "y_new"
   ]
  },
  {
   "cell_type": "code",
   "execution_count": 8,
   "id": "7ce3b26b-df06-4600-a00d-79f91e7ded3a",
   "metadata": {},
   "outputs": [
    {
     "name": "stdout",
     "output_type": "stream",
     "text": [
      "Label to digit mapping:\n",
      "DdoS: 0\n",
      "Probe: 1\n"
     ]
    }
   ],
   "source": [
    "# Print the mapping of labels to digits\n",
    "print(\"Label to digit mapping:\")\n",
    "for i, label in enumerate(le.classes_):\n",
    "    print(f\"{label}: {i}\")"
   ]
  },
  {
   "cell_type": "code",
   "execution_count": 9,
   "id": "39d0de42-a6a0-4432-be99-36919538cc01",
   "metadata": {},
   "outputs": [],
   "source": [
    "from sklearn.preprocessing import MinMaxScaler\n",
    "scaler = MinMaxScaler()\n",
    "X_new = X_new.values\n",
    "X_new = scaler.fit_transform(X_new)"
   ]
  },
  {
   "cell_type": "code",
   "execution_count": 10,
   "id": "b9240e00-7a04-451e-a471-21b5b0c3b6b8",
   "metadata": {},
   "outputs": [],
   "source": [
    "X_new_reshaped = X_new.reshape((X_new.shape[0], 1, X_new.shape[1]))\n"
   ]
  },
  {
   "cell_type": "code",
   "execution_count": 11,
   "id": "951c0b6e-eaf4-4b0a-8d7e-b0181092f587",
   "metadata": {},
   "outputs": [],
   "source": [
    "#model = load_model(\"binbalancedModel2.keras\")\n",
    "model = load_model(\"binbalancedModel4.keras\")"
   ]
  },
  {
   "cell_type": "code",
   "execution_count": 12,
   "id": "8251af94-4640-4d5b-8ff3-5591ce9a5caf",
   "metadata": {},
   "outputs": [
    {
     "name": "stdout",
     "output_type": "stream",
     "text": [
      "297/297 [==============================] - 1s 2ms/step\n"
     ]
    }
   ],
   "source": [
    "predictions = model.predict(X_new_reshaped)"
   ]
  },
  {
   "cell_type": "code",
   "execution_count": 13,
   "id": "663481e5-0587-4b8a-89dc-6e2b3911f874",
   "metadata": {},
   "outputs": [],
   "source": [
    "#convert to categorical\n",
    "#y_new = to_categorical(y_new,3)"
   ]
  },
  {
   "cell_type": "code",
   "execution_count": 14,
   "id": "a11132ac-e517-4c75-bd69-69656b45eb50",
   "metadata": {},
   "outputs": [],
   "source": [
    "#comparison = np.argmax(predictions,axis=1) == np.argmax(y_new,axis=1)"
   ]
  },
  {
   "cell_type": "code",
   "execution_count": 15,
   "id": "1d99b92e-a15f-40f4-8b4d-4cdbdc725fa0",
   "metadata": {},
   "outputs": [],
   "source": [
    "#accuracy = accuracy_score(y_new, predictions)\n",
    "#print(\"accuracy on the new dataset: {:.2f}%\".format(accuracy*100))"
   ]
  },
  {
   "cell_type": "code",
   "execution_count": 16,
   "id": "3d7aaeef-6b96-4e4e-9119-42935b10bc77",
   "metadata": {},
   "outputs": [],
   "source": [
    "y_pred = np.round(predictions)"
   ]
  },
  {
   "cell_type": "code",
   "execution_count": 17,
   "id": "ee727032-851b-4003-9839-c8b560a90825",
   "metadata": {},
   "outputs": [
    {
     "data": {
      "text/plain": [
       "array([[1.],\n",
       "       [1.],\n",
       "       [1.],\n",
       "       ...,\n",
       "       [1.],\n",
       "       [1.],\n",
       "       [1.]], dtype=float32)"
      ]
     },
     "execution_count": 17,
     "metadata": {},
     "output_type": "execute_result"
    }
   ],
   "source": [
    "y_pred"
   ]
  },
  {
   "cell_type": "code",
   "execution_count": 18,
   "id": "d1452511-4c25-45dd-8516-da974daba451",
   "metadata": {},
   "outputs": [
    {
     "name": "stdout",
     "output_type": "stream",
     "text": [
      "              precision    recall  f1-score   support\n",
      "\n",
      "           0       1.00      0.68      0.81      4500\n",
      "           1       0.77      1.00      0.87      5002\n",
      "\n",
      "    accuracy                           0.85      9502\n",
      "   macro avg       0.89      0.84      0.84      9502\n",
      "weighted avg       0.88      0.85      0.84      9502\n",
      "\n"
     ]
    }
   ],
   "source": [
    "print(classification_report(y_new, y_pred,zero_division='warn'))"
   ]
  },
  {
   "cell_type": "code",
   "execution_count": 19,
   "id": "ccd14e73-15ee-438b-bee4-cdc35c9f38b7",
   "metadata": {},
   "outputs": [
    {
     "name": "stderr",
     "output_type": "stream",
     "text": [
      "/home/iskadoodle/.local/lib/python3.10/site-packages/sklearn/preprocessing/_label.py:114: DataConversionWarning: A column-vector y was passed when a 1d array was expected. Please change the shape of y to (n_samples, ), for example using ravel().\n",
      "  y = column_or_1d(y, warn=True)\n"
     ]
    }
   ],
   "source": [
    "y_true_encoded = le.fit_transform(y_new)\n",
    "y_pred_labels = le.fit_transform(y_pred)"
   ]
  },
  {
   "cell_type": "code",
   "execution_count": 20,
   "id": "c1b8a2f2-7a01-4ef2-ad59-290a30b446a2",
   "metadata": {},
   "outputs": [
    {
     "data": {
      "text/plain": [
       "array([[3042, 1458],\n",
       "       [   8, 4994]])"
      ]
     },
     "execution_count": 20,
     "metadata": {},
     "output_type": "execute_result"
    }
   ],
   "source": [
    "from sklearn.metrics import confusion_matrix\n",
    "confusion_mat = confusion_matrix(y_new, y_pred)\n",
    "confusion_mat"
   ]
  },
  {
   "cell_type": "code",
   "execution_count": 21,
   "id": "287bed7e-5243-4205-b7de-323663e26876",
   "metadata": {},
   "outputs": [
    {
     "name": "stdout",
     "output_type": "stream",
     "text": [
      "      Actual  Predicted\n",
      "0          1          1\n",
      "1          1          1\n",
      "2          1          1\n",
      "3          1          1\n",
      "4          1          1\n",
      "...      ...        ...\n",
      "9497       1          1\n",
      "9498       1          1\n",
      "9499       1          1\n",
      "9500       0          1\n",
      "9501       1          1\n",
      "\n",
      "[9502 rows x 2 columns]\n"
     ]
    }
   ],
   "source": [
    "logr_bin_df = pd.DataFrame({'Actual': y_true_encoded, 'Predicted': y_pred_labels})\n",
    "print(logr_bin_df)"
   ]
  },
  {
   "cell_type": "code",
   "execution_count": 22,
   "id": "27ea7569-2c8b-4dc9-ba30-6a0990dc84b7",
   "metadata": {},
   "outputs": [
    {
     "name": "stdout",
     "output_type": "stream",
     "text": [
      "0.9973770491803279\n",
      "0.2259764414135152\n"
     ]
    }
   ],
   "source": [
    "TP = confusion_mat[0][0]\n",
    "FP = confusion_mat[0][1] \n",
    "FN = confusion_mat[1][0] \n",
    "TN = confusion_mat[1][1]\n",
    "TruePositiveRate = TP/(FN+TP)\n",
    "FalsePositiveRate = FP/(FP+TN)\n",
    "print(TruePositiveRate)\n",
    "print(FalsePositiveRate)"
   ]
  },
  {
   "cell_type": "code",
   "execution_count": 23,
   "id": "718a7abb-36b0-4b9a-8eff-b8bf4a2c7097",
   "metadata": {},
   "outputs": [
    {
     "data": {
      "image/png": "[encoded data removed]",
      "text/plain": [
       "<Figure size 640x480 with 2 Axes>"
      ]
     },
     "metadata": {},
     "output_type": "display_data"
    }
   ],
   "source": [
    "import itertools\n",
    "def plot_confusion_matrix(conf_matrix, classes, title):\n",
    "    plt.imshow(conf_matrix, interpolation='nearest', cmap=plt.cm.Blues)\n",
    "    plt.title(title)\n",
    "    plt.colorbar()\n",
    "    tick_marks = np.arange(len(classes))\n",
    "    plt.xticks(tick_marks, classes, rotation=45)\n",
    "    plt.yticks(tick_marks, classes)\n",
    "\n",
    "    fmt = 'd'\n",
    "    thresh = conf_matrix.max() / 2.\n",
    "    for i, j in itertools.product(range(conf_matrix.shape[0]), range(conf_matrix.shape[1])):\n",
    "        plt.text(j, i, format(conf_matrix[i, j], fmt),\n",
    "                 horizontalalignment=\"center\",\n",
    "                 color=\"white\" if conf_matrix[i, j] > thresh else \"black\")\n",
    "\n",
    "    plt.tight_layout()\n",
    "    plt.ylabel('True Label')\n",
    "    plt.xlabel('Predicted Label')\n",
    "\n",
    "plot_confusion_matrix(confusion_mat, ['DDoS', 'Probe'], \"Confusion Matrix\")\n",
    "plt.show()"
   ]
  },
  {
   "cell_type": "code",
   "execution_count": null,
   "id": "4df3de41-0a4a-4f8a-9c35-ab0ef4dac02e",
   "metadata": {},
   "outputs": [],
   "source": []
  }
 ],
 "metadata": {
  "kernelspec": {
   "display_name": "Python 3 (ipykernel)",
   "language": "python",
   "name": "python3"
  },
  "language_info": {
   "codemirror_mode": {
    "name": "ipython",
    "version": 3
   },
   "file_extension": ".py",
   "mimetype": "text/x-python",
   "name": "python",
   "nbconvert_exporter": "python",
   "pygments_lexer": "ipython3",
   "version": "3.10.12"
  }
 },
 "nbformat": 4,
 "nbformat_minor": 5
}
