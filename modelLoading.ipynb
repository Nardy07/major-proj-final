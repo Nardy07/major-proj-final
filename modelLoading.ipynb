{
 "cells": [
  {
   "cell_type": "code",
   "execution_count": 1,
   "id": "058f00c8-3e44-4684-8d48-4f1f9277f5a8",
   "metadata": {},
   "outputs": [
    {
     "name": "stderr",
     "output_type": "stream",
     "text": [
      "2024-03-05 20:44:39.278842: I external/local_tsl/tsl/cuda/cudart_stub.cc:31] Could not find cuda drivers on your machine, GPU will not be used.\n",
      "2024-03-05 20:44:39.315220: E external/local_xla/xla/stream_executor/cuda/cuda_dnn.cc:9261] Unable to register cuDNN factory: Attempting to register factory for plugin cuDNN when one has already been registered\n",
      "2024-03-05 20:44:39.315245: E external/local_xla/xla/stream_executor/cuda/cuda_fft.cc:607] Unable to register cuFFT factory: Attempting to register factory for plugin cuFFT when one has already been registered\n",
      "2024-03-05 20:44:39.316372: E external/local_xla/xla/stream_executor/cuda/cuda_blas.cc:1515] Unable to register cuBLAS factory: Attempting to register factory for plugin cuBLAS when one has already been registered\n",
      "2024-03-05 20:44:39.322123: I external/local_tsl/tsl/cuda/cudart_stub.cc:31] Could not find cuda drivers on your machine, GPU will not be used.\n",
      "2024-03-05 20:44:39.322933: I tensorflow/core/platform/cpu_feature_guard.cc:182] This TensorFlow binary is optimized to use available CPU instructions in performance-critical operations.\n",
      "To enable the following instructions: AVX2 FMA, in other operations, rebuild TensorFlow with the appropriate compiler flags.\n",
      "2024-03-05 20:44:40.305225: W tensorflow/compiler/tf2tensorrt/utils/py_utils.cc:38] TF-TRT Warning: Could not find TensorRT\n",
      "/home/iskadoodle/.local/lib/python3.10/site-packages/matplotlib/projections/__init__.py:63: UserWarning: Unable to import Axes3D. This may be due to multiple versions of Matplotlib being installed (e.g. as a system package and as a pip package). As a result, the 3D projection is not available.\n",
      "  warnings.warn(\"Unable to import Axes3D. This may be due to multiple versions of \"\n"
     ]
    }
   ],
   "source": [
    "import pandas as pd\n",
    "import numpy as np\n",
    "from keras.utils import to_categorical\n",
    "import matplotlib.pyplot as plt"
   ]
  },
  {
   "cell_type": "code",
   "execution_count": 2,
   "id": "f36d6757-237a-41c9-a363-e3d0620e12e7",
   "metadata": {},
   "outputs": [],
   "source": [
    "from sklearn.preprocessing import LabelEncoder\n",
    "from keras.models import load_model"
   ]
  },
  {
   "cell_type": "code",
   "execution_count": 3,
   "id": "e51e8670-07a8-4287-a242-eb89c7a6dc2e",
   "metadata": {},
   "outputs": [],
   "source": [
    "from sklearn.metrics import accuracy_score # for calculating accuracy of model\n",
    "from sklearn.metrics import classification_report\n"
   ]
  },
  {
   "cell_type": "code",
   "execution_count": 41,
   "id": "89907343-6e69-4be0-822b-28dfcee7bfcf",
   "metadata": {},
   "outputs": [],
   "source": [
    "X_new = pd.read_csv('ddosx.csv')\n",
    "y_new = pd.read_csv('ddosy.csv')"
   ]
  },
  {
   "cell_type": "code",
   "execution_count": 42,
   "id": "cdcdc44a-1df7-401a-b584-edc9964143c1",
   "metadata": {},
   "outputs": [
    {
     "name": "stderr",
     "output_type": "stream",
     "text": [
      "/home/iskadoodle/.local/lib/python3.10/site-packages/sklearn/preprocessing/_label.py:114: DataConversionWarning: A column-vector y was passed when a 1d array was expected. Please change the shape of y to (n_samples, ), for example using ravel().\n",
      "  y = column_or_1d(y, warn=True)\n"
     ]
    }
   ],
   "source": [
    "y1 = y_new\n",
    "le = LabelEncoder()\n",
    "y_new = le.fit_transform(y_new)"
   ]
  },
  {
   "cell_type": "code",
   "execution_count": 43,
   "id": "296cfe8c-8e18-4f39-bb2c-d7c8f992652f",
   "metadata": {},
   "outputs": [
    {
     "data": {
      "text/plain": [
       "array([0, 0, 0, ..., 0, 0, 0])"
      ]
     },
     "execution_count": 43,
     "metadata": {},
     "output_type": "execute_result"
    }
   ],
   "source": [
    "y_new"
   ]
  },
  {
   "cell_type": "code",
   "execution_count": 44,
   "id": "7ce3b26b-df06-4600-a00d-79f91e7ded3a",
   "metadata": {},
   "outputs": [
    {
     "name": "stdout",
     "output_type": "stream",
     "text": [
      "Label to digit mapping:\n",
      "DdoS: 0\n"
     ]
    }
   ],
   "source": [
    "# Print the mapping of labels to digits\n",
    "print(\"Label to digit mapping:\")\n",
    "for i, label in enumerate(le.classes_):\n",
    "    print(f\"{label}: {i}\")"
   ]
  },
  {
   "cell_type": "code",
   "execution_count": 45,
   "id": "39d0de42-a6a0-4432-be99-36919538cc01",
   "metadata": {},
   "outputs": [],
   "source": [
    "from sklearn.preprocessing import MinMaxScaler\n",
    "scaler = MinMaxScaler()\n",
    "X_new = X_new.values\n",
    "X_new = scaler.fit_transform(X_new)"
   ]
  },
  {
   "cell_type": "code",
   "execution_count": 46,
   "id": "b9240e00-7a04-451e-a471-21b5b0c3b6b8",
   "metadata": {},
   "outputs": [],
   "source": [
    "X_new_reshaped = X_new.reshape((X_new.shape[0], 1, X_new.shape[1]))\n"
   ]
  },
  {
   "cell_type": "code",
   "execution_count": 47,
   "id": "951c0b6e-eaf4-4b0a-8d7e-b0181092f587",
   "metadata": {},
   "outputs": [],
   "source": [
    "model = load_model(\"bb1.keras\")\n"
   ]
  },
  {
   "cell_type": "code",
   "execution_count": 48,
   "id": "8251af94-4640-4d5b-8ff3-5591ce9a5caf",
   "metadata": {},
   "outputs": [
    {
     "name": "stdout",
     "output_type": "stream",
     "text": [
      "2048/2048 [==============================] - 4s 1ms/step\n"
     ]
    }
   ],
   "source": [
    "predictions = model.predict(X_new_reshaped)"
   ]
  },
  {
   "cell_type": "code",
   "execution_count": 49,
   "id": "663481e5-0587-4b8a-89dc-6e2b3911f874",
   "metadata": {},
   "outputs": [],
   "source": [
    "#convert to categorical\n",
    "#y_new = to_categorical(y_new,3)"
   ]
  },
  {
   "cell_type": "code",
   "execution_count": 50,
   "id": "a11132ac-e517-4c75-bd69-69656b45eb50",
   "metadata": {},
   "outputs": [],
   "source": [
    "#comparison = np.argmax(predictions,axis=1) == np.argmax(y_new,axis=1)"
   ]
  },
  {
   "cell_type": "code",
   "execution_count": 51,
   "id": "1d99b92e-a15f-40f4-8b4d-4cdbdc725fa0",
   "metadata": {},
   "outputs": [],
   "source": [
    "#accuracy = accuracy_score(y_new, predictions)\n",
    "#print(\"accuracy on the new dataset: {:.2f}%\".format(accuracy*100))"
   ]
  },
  {
   "cell_type": "code",
   "execution_count": 54,
   "id": "3d7aaeef-6b96-4e4e-9119-42935b10bc77",
   "metadata": {},
   "outputs": [],
   "source": [
    "y_pred = np.round(predictions)"
   ]
  },
  {
   "cell_type": "code",
   "execution_count": 55,
   "id": "ee727032-851b-4003-9839-c8b560a90825",
   "metadata": {},
   "outputs": [
    {
     "data": {
      "text/plain": [
       "array([[1.],\n",
       "       [1.],\n",
       "       [1.],\n",
       "       ...,\n",
       "       [1.],\n",
       "       [1.],\n",
       "       [1.]], dtype=float32)"
      ]
     },
     "execution_count": 55,
     "metadata": {},
     "output_type": "execute_result"
    }
   ],
   "source": [
    "y_pred"
   ]
  },
  {
   "cell_type": "code",
   "execution_count": 56,
   "id": "d1452511-4c25-45dd-8516-da974daba451",
   "metadata": {},
   "outputs": [
    {
     "name": "stdout",
     "output_type": "stream",
     "text": [
      "              precision    recall  f1-score   support\n",
      "\n",
      "         0.0       1.00      0.01      0.01     65536\n",
      "         1.0       0.00      0.00      0.00         0\n",
      "\n",
      "    accuracy                           0.01     65536\n",
      "   macro avg       0.50      0.00      0.01     65536\n",
      "weighted avg       1.00      0.01      0.01     65536\n",
      "\n"
     ]
    },
    {
     "name": "stderr",
     "output_type": "stream",
     "text": [
      "/home/iskadoodle/.local/lib/python3.10/site-packages/sklearn/metrics/_classification.py:1471: UndefinedMetricWarning: Recall and F-score are ill-defined and being set to 0.0 in labels with no true samples. Use `zero_division` parameter to control this behavior.\n",
      "  _warn_prf(average, modifier, msg_start, len(result))\n",
      "/home/iskadoodle/.local/lib/python3.10/site-packages/sklearn/metrics/_classification.py:1471: UndefinedMetricWarning: Recall and F-score are ill-defined and being set to 0.0 in labels with no true samples. Use `zero_division` parameter to control this behavior.\n",
      "  _warn_prf(average, modifier, msg_start, len(result))\n",
      "/home/iskadoodle/.local/lib/python3.10/site-packages/sklearn/metrics/_classification.py:1471: UndefinedMetricWarning: Recall and F-score are ill-defined and being set to 0.0 in labels with no true samples. Use `zero_division` parameter to control this behavior.\n",
      "  _warn_prf(average, modifier, msg_start, len(result))\n"
     ]
    }
   ],
   "source": [
    "print(classification_report(y_new, y_pred,zero_division='warn'))"
   ]
  },
  {
   "cell_type": "code",
   "execution_count": 57,
   "id": "ccd14e73-15ee-438b-bee4-cdc35c9f38b7",
   "metadata": {},
   "outputs": [
    {
     "name": "stderr",
     "output_type": "stream",
     "text": [
      "/home/iskadoodle/.local/lib/python3.10/site-packages/sklearn/preprocessing/_label.py:114: DataConversionWarning: A column-vector y was passed when a 1d array was expected. Please change the shape of y to (n_samples, ), for example using ravel().\n",
      "  y = column_or_1d(y, warn=True)\n"
     ]
    }
   ],
   "source": [
    "y_true_encoded = le.fit_transform(y_new)\n",
    "y_pred_labels = le.fit_transform(y_pred)"
   ]
  },
  {
   "cell_type": "code",
   "execution_count": 58,
   "id": "c1b8a2f2-7a01-4ef2-ad59-290a30b446a2",
   "metadata": {},
   "outputs": [
    {
     "data": {
      "text/plain": [
       "array([[  359, 65177],\n",
       "       [    0,     0]])"
      ]
     },
     "execution_count": 58,
     "metadata": {},
     "output_type": "execute_result"
    }
   ],
   "source": [
    "from sklearn.metrics import confusion_matrix\n",
    "confusion_mat = confusion_matrix(y_new, y_pred)\n",
    "confusion_mat"
   ]
  },
  {
   "cell_type": "code",
   "execution_count": 59,
   "id": "287bed7e-5243-4205-b7de-323663e26876",
   "metadata": {},
   "outputs": [
    {
     "name": "stdout",
     "output_type": "stream",
     "text": [
      "       Actual  Predicted\n",
      "0           0          1\n",
      "1           0          1\n",
      "2           0          1\n",
      "3           0          1\n",
      "4           0          1\n",
      "...       ...        ...\n",
      "65531       0          1\n",
      "65532       0          1\n",
      "65533       0          1\n",
      "65534       0          1\n",
      "65535       0          1\n",
      "\n",
      "[65536 rows x 2 columns]\n"
     ]
    }
   ],
   "source": [
    "logr_bin_df = pd.DataFrame({'Actual': y_true_encoded, 'Predicted': y_pred_labels})\n",
    "print(logr_bin_df)"
   ]
  },
  {
   "cell_type": "code",
   "execution_count": 79,
   "id": "27ea7569-2c8b-4dc9-ba30-6a0990dc84b7",
   "metadata": {},
   "outputs": [
    {
     "name": "stdout",
     "output_type": "stream",
     "text": [
      "1.0\n",
      "0.10699283419817149\n"
     ]
    }
   ],
   "source": [
    "TP = confusion_mat[0][0]\n",
    "FP = confusion_mat[1][0] \n",
    "FN = confusion_mat[0][1] \n",
    "TN = confusion_mat[1][1]\n",
    "TruePositiveRate = TP/(FN+TP)\n",
    "FalsePositiveRate = FP/(FP+TN)\n",
    "print(TruePositiveRate)\n",
    "print(FalsePositiveRate)"
   ]
  },
  {
   "cell_type": "code",
   "execution_count": 40,
   "id": "718a7abb-36b0-4b9a-8eff-b8bf4a2c7097",
   "metadata": {},
   "outputs": [
    {
     "data": {
      "image/png": "[encoded data removed]",
      "text/plain": [
       "<Figure size 640x480 with 2 Axes>"
      ]
     },
     "metadata": {},
     "output_type": "display_data"
    }
   ],
   "source": [
    "import itertools\n",
    "def plot_confusion_matrix(conf_matrix, classes, title):\n",
    "    plt.imshow(conf_matrix, interpolation='nearest', cmap=plt.cm.Blues)\n",
    "    plt.title(title)\n",
    "    plt.colorbar()\n",
    "    tick_marks = np.arange(len(classes))\n",
    "    plt.xticks(tick_marks, classes, rotation=45)\n",
    "    plt.yticks(tick_marks, classes)\n",
    "\n",
    "    fmt = 'd'\n",
    "    thresh = conf_matrix.max() / 2.\n",
    "    for i, j in itertools.product(range(conf_matrix.shape[0]), range(conf_matrix.shape[1])):\n",
    "        plt.text(j, i, format(conf_matrix[i, j], fmt),\n",
    "                 horizontalalignment=\"center\",\n",
    "                 color=\"white\" if conf_matrix[i, j] > thresh else \"black\")\n",
    "\n",
    "    plt.tight_layout()\n",
    "    plt.ylabel('True Label')\n",
    "    plt.xlabel('Predicted Label')\n",
    "\n",
    "plot_confusion_matrix(confusion_mat, ['Abnormal', 'Normal'], \"Confusion Matrix\")\n",
    "plt.show()"
   ]
  },
  {
   "cell_type": "code",
   "execution_count": null,
   "id": "b0be9714-7555-4096-bdd7-1e274eb84626",
   "metadata": {},
   "outputs": [],
   "source": []
  }
 ],
 "metadata": {
  "kernelspec": {
   "display_name": "Python 3 (ipykernel)",
   "language": "python",
   "name": "python3"
  },
  "language_info": {
   "codemirror_mode": {
    "name": "ipython",
    "version": 3
   },
   "file_extension": ".py",
   "mimetype": "text/x-python",
   "name": "python",
   "nbconvert_exporter": "python",
   "pygments_lexer": "ipython3",
   "version": "3.10.12"
  }
 },
 "nbformat": 4,
 "nbformat_minor": 5
}
