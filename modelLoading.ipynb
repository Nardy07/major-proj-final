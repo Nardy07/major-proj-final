{
 "cells": [
  {
   "cell_type": "code",
   "execution_count": 1,
   "id": "058f00c8-3e44-4684-8d48-4f1f9277f5a8",
   "metadata": {},
   "outputs": [
    {
     "name": "stderr",
     "output_type": "stream",
     "text": [
      "2024-02-24 14:54:25.441449: I external/local_tsl/tsl/cuda/cudart_stub.cc:31] Could not find cuda drivers on your machine, GPU will not be used.\n",
      "2024-02-24 14:54:25.482097: E external/local_xla/xla/stream_executor/cuda/cuda_dnn.cc:9261] Unable to register cuDNN factory: Attempting to register factory for plugin cuDNN when one has already been registered\n",
      "2024-02-24 14:54:25.482125: E external/local_xla/xla/stream_executor/cuda/cuda_fft.cc:607] Unable to register cuFFT factory: Attempting to register factory for plugin cuFFT when one has already been registered\n",
      "2024-02-24 14:54:25.483190: E external/local_xla/xla/stream_executor/cuda/cuda_blas.cc:1515] Unable to register cuBLAS factory: Attempting to register factory for plugin cuBLAS when one has already been registered\n",
      "2024-02-24 14:54:25.488845: I external/local_tsl/tsl/cuda/cudart_stub.cc:31] Could not find cuda drivers on your machine, GPU will not be used.\n",
      "2024-02-24 14:54:25.489378: I tensorflow/core/platform/cpu_feature_guard.cc:182] This TensorFlow binary is optimized to use available CPU instructions in performance-critical operations.\n",
      "To enable the following instructions: AVX2 FMA, in other operations, rebuild TensorFlow with the appropriate compiler flags.\n",
      "2024-02-24 14:54:26.499007: W tensorflow/compiler/tf2tensorrt/utils/py_utils.cc:38] TF-TRT Warning: Could not find TensorRT\n",
      "/home/iskadoodle/.local/lib/python3.10/site-packages/matplotlib/projections/__init__.py:63: UserWarning: Unable to import Axes3D. This may be due to multiple versions of Matplotlib being installed (e.g. as a system package and as a pip package). As a result, the 3D projection is not available.\n",
      "  warnings.warn(\"Unable to import Axes3D. This may be due to multiple versions of \"\n"
     ]
    }
   ],
   "source": [
    "import pandas as pd\n",
    "import numpy as np\n",
    "from keras.utils import to_categorical\n",
    "import matplotlib.pyplot as plt"
   ]
  },
  {
   "cell_type": "code",
   "execution_count": 2,
   "id": "f36d6757-237a-41c9-a363-e3d0620e12e7",
   "metadata": {},
   "outputs": [],
   "source": [
    "from sklearn.preprocessing import LabelEncoder\n",
    "from keras.models import load_model"
   ]
  },
  {
   "cell_type": "code",
   "execution_count": 3,
   "id": "e51e8670-07a8-4287-a242-eb89c7a6dc2e",
   "metadata": {},
   "outputs": [],
   "source": [
    "from sklearn.metrics import accuracy_score # for calculating accuracy of model\n",
    "from sklearn.metrics import classification_report\n"
   ]
  },
  {
   "cell_type": "code",
   "execution_count": 31,
   "id": "89907343-6e69-4be0-822b-28dfcee7bfcf",
   "metadata": {},
   "outputs": [],
   "source": [
    "X_new = pd.read_csv('X_val_nulti_with_ping.csv')\n",
    "y_new = pd.read_csv('y_val_multi_with_ping.csv')"
   ]
  },
  {
   "cell_type": "code",
   "execution_count": 32,
   "id": "cdcdc44a-1df7-401a-b584-edc9964143c1",
   "metadata": {},
   "outputs": [
    {
     "name": "stderr",
     "output_type": "stream",
     "text": [
      "/home/iskadoodle/.local/lib/python3.10/site-packages/sklearn/preprocessing/_label.py:114: DataConversionWarning: A column-vector y was passed when a 1d array was expected. Please change the shape of y to (n_samples, ), for example using ravel().\n",
      "  y = column_or_1d(y, warn=True)\n"
     ]
    }
   ],
   "source": [
    "y1 = y_new\n",
    "le = LabelEncoder()\n",
    "y_new = le.fit_transform(y_new)"
   ]
  },
  {
   "cell_type": "code",
   "execution_count": 33,
   "id": "7ce3b26b-df06-4600-a00d-79f91e7ded3a",
   "metadata": {},
   "outputs": [
    {
     "name": "stdout",
     "output_type": "stream",
     "text": [
      "Label to digit mapping:\n",
      "DdoS: 0\n",
      "Normal: 1\n",
      "Probe: 2\n"
     ]
    }
   ],
   "source": [
    "# Print the mapping of labels to digits\n",
    "print(\"Label to digit mapping:\")\n",
    "for i, label in enumerate(le.classes_):\n",
    "    print(f\"{label}: {i}\")"
   ]
  },
  {
   "cell_type": "code",
   "execution_count": 34,
   "id": "b9240e00-7a04-451e-a471-21b5b0c3b6b8",
   "metadata": {},
   "outputs": [],
   "source": [
    "X_new_reshaped = X_new.values.reshape((X_new.shape[0], 1, X_new.shape[1]))\n"
   ]
  },
  {
   "cell_type": "code",
   "execution_count": 35,
   "id": "951c0b6e-eaf4-4b0a-8d7e-b0181092f587",
   "metadata": {},
   "outputs": [],
   "source": [
    "model = load_model(\"micMultiBB1/\")"
   ]
  },
  {
   "cell_type": "code",
   "execution_count": 36,
   "id": "8251af94-4640-4d5b-8ff3-5591ce9a5caf",
   "metadata": {},
   "outputs": [
    {
     "name": "stdout",
     "output_type": "stream",
     "text": [
      "455/455 [==============================] - 1s 2ms/step\n"
     ]
    }
   ],
   "source": [
    "predictions = model.predict(X_new_reshaped)"
   ]
  },
  {
   "cell_type": "code",
   "execution_count": 37,
   "id": "663481e5-0587-4b8a-89dc-6e2b3911f874",
   "metadata": {},
   "outputs": [],
   "source": [
    "#convert to categorical\n",
    "y_new = to_categorical(y_new,3)"
   ]
  },
  {
   "cell_type": "code",
   "execution_count": 38,
   "id": "a11132ac-e517-4c75-bd69-69656b45eb50",
   "metadata": {},
   "outputs": [],
   "source": [
    "comparison = np.argmax(predictions,axis=1) == np.argmax(y_new,axis=1)"
   ]
  },
  {
   "cell_type": "code",
   "execution_count": 39,
   "id": "1d99b92e-a15f-40f4-8b4d-4cdbdc725fa0",
   "metadata": {},
   "outputs": [
    {
     "name": "stdout",
     "output_type": "stream",
     "text": [
      "accuracy on the new dataset: 90.84%\n"
     ]
    }
   ],
   "source": [
    "accuracy = accuracy_score(np.argmax(y_new,axis=1), np.argmax(predictions,axis=1))\n",
    "print(\"accuracy on the new dataset: {:.2f}%\".format(accuracy*100))"
   ]
  },
  {
   "cell_type": "code",
   "execution_count": 40,
   "id": "196b400f-897f-46be-8e29-bbc6d9b867ed",
   "metadata": {},
   "outputs": [],
   "source": [
    "y_test_labels1 = y_new.argmax(axis=1)\n",
    "# Fit and transform the labels in y_true\n",
    "y_true_encoded = le.fit_transform(y_test_labels1)"
   ]
  },
  {
   "cell_type": "code",
   "execution_count": 41,
   "id": "fe31137f-2137-4ff5-80e6-d579676f31c0",
   "metadata": {},
   "outputs": [],
   "source": [
    "# Convert the predicted probabilities to labels\n",
    "y_pred_labels = np.argmax(predictions, axis=1)"
   ]
  },
  {
   "cell_type": "code",
   "execution_count": 42,
   "id": "c06f3b3e-afdb-48b8-9ae9-884bc76476f0",
   "metadata": {},
   "outputs": [
    {
     "name": "stdout",
     "output_type": "stream",
     "text": [
      "Confusion matrix:\n",
      "[[3794    0  706]\n",
      " [  19 3993   35]\n",
      " [ 572    0 5429]]\n"
     ]
    }
   ],
   "source": [
    "# Check the confusion matrix\n",
    "from sklearn.metrics import confusion_matrix\n",
    "confusion_mat = confusion_matrix(y_true_encoded, y_pred_labels)\n",
    "\n",
    "print(\"Confusion matrix:\")\n",
    "print(confusion_mat)\n"
   ]
  },
  {
   "cell_type": "code",
   "execution_count": 43,
   "id": "287bed7e-5243-4205-b7de-323663e26876",
   "metadata": {},
   "outputs": [
    {
     "name": "stdout",
     "output_type": "stream",
     "text": [
      "       Actual  Predicted\n",
      "0           1          1\n",
      "1           1          1\n",
      "2           1          1\n",
      "3           1          1\n",
      "4           1          1\n",
      "...       ...        ...\n",
      "14543       2          2\n",
      "14544       2          2\n",
      "14545       2          2\n",
      "14546       2          2\n",
      "14547       2          2\n",
      "\n",
      "[14548 rows x 2 columns]\n"
     ]
    }
   ],
   "source": [
    "logr_bin_df = pd.DataFrame({'Actual': y_true_encoded, 'Predicted': y_pred_labels})\n",
    "print(logr_bin_df)"
   ]
  },
  {
   "cell_type": "code",
   "execution_count": 44,
   "id": "3ba6523b-aee6-4a21-a462-2778a0d1ecf1",
   "metadata": {},
   "outputs": [
    {
     "name": "stdout",
     "output_type": "stream",
     "text": [
      "              precision    recall  f1-score   support\n",
      "\n",
      "           0       0.87      0.84      0.85      4500\n",
      "           1       1.00      0.99      0.99      4047\n",
      "           2       0.88      0.90      0.89      6001\n",
      "\n",
      "    accuracy                           0.91     14548\n",
      "   macro avg       0.92      0.91      0.91     14548\n",
      "weighted avg       0.91      0.91      0.91     14548\n",
      "\n"
     ]
    }
   ],
   "source": [
    "report = classification_report(y_true_encoded,y_pred_labels,labels=le.classes_)\n",
    "print(report)"
   ]
  },
  {
   "cell_type": "code",
   "execution_count": 45,
   "id": "27ea7569-2c8b-4dc9-ba30-6a0990dc84b7",
   "metadata": {},
   "outputs": [
    {
     "name": "stdout",
     "output_type": "stream",
     "text": [
      "0.9866567828020756\n",
      "0.0\n"
     ]
    }
   ],
   "source": [
    "TP = confusion_mat[1][1]\n",
    "FP = confusion_mat[0][1] + confusion_mat[2][1]\n",
    "FN = confusion_mat[1][0] + confusion_mat[1][2]\n",
    "TN = confusion_mat[0][0] + confusion_mat[2][2]+confusion_mat[0][2]+confusion_mat[2][0]\n",
    "TruePositiveRate = TP/(FN+TP)\n",
    "FalsePositiveRate = FP/(FP+TN)\n",
    "print(TruePositiveRate)\n",
    "print(FalsePositiveRate)"
   ]
  },
  {
   "cell_type": "code",
   "execution_count": 48,
   "id": "7287e87e-289b-46be-b41c-afc1e5a57100",
   "metadata": {},
   "outputs": [
    {
     "name": "stdout",
     "output_type": "stream",
     "text": [
      "Defaulting to user installation because normal site-packages is not writeable\n",
      "Collecting seaborn\n",
      "  Downloading seaborn-0.13.2-py3-none-any.whl (294 kB)\n",
      "\u001b[2K     \u001b[38;2;114;156;31m━━━━━━━━━━━━━━━━━━━━━━━━━━━━━━━━━━━━━━━\u001b[0m \u001b[32m294.9/294.9 KB\u001b[0m \u001b[31m1.3 MB/s\u001b[0m eta \u001b[36m0:00:00\u001b[0m MB/s\u001b[0m eta \u001b[36m0:00:01\u001b[0m\n",
      "\u001b[?25hRequirement already satisfied: pandas>=1.2 in /home/iskadoodle/.local/lib/python3.10/site-packages (from seaborn) (2.1.4)\n",
      "Requirement already satisfied: numpy!=1.24.0,>=1.20 in /home/iskadoodle/.local/lib/python3.10/site-packages (from seaborn) (1.26.2)\n",
      "Requirement already satisfied: matplotlib!=3.6.1,>=3.4 in /home/iskadoodle/.local/lib/python3.10/site-packages (from seaborn) (3.8.2)\n",
      "Requirement already satisfied: python-dateutil>=2.7 in /home/iskadoodle/.local/lib/python3.10/site-packages (from matplotlib!=3.6.1,>=3.4->seaborn) (2.8.2)\n",
      "Requirement already satisfied: pillow>=8 in /usr/lib/python3/dist-packages (from matplotlib!=3.6.1,>=3.4->seaborn) (9.0.1)\n",
      "Requirement already satisfied: packaging>=20.0 in /home/iskadoodle/.local/lib/python3.10/site-packages (from matplotlib!=3.6.1,>=3.4->seaborn) (23.2)\n",
      "Requirement already satisfied: cycler>=0.10 in /home/iskadoodle/.local/lib/python3.10/site-packages (from matplotlib!=3.6.1,>=3.4->seaborn) (0.12.1)\n",
      "Requirement already satisfied: fonttools>=4.22.0 in /home/iskadoodle/.local/lib/python3.10/site-packages (from matplotlib!=3.6.1,>=3.4->seaborn) (4.47.0)\n",
      "Requirement already satisfied: pyparsing>=2.3.1 in /usr/lib/python3/dist-packages (from matplotlib!=3.6.1,>=3.4->seaborn) (2.4.7)\n",
      "Requirement already satisfied: contourpy>=1.0.1 in /home/iskadoodle/.local/lib/python3.10/site-packages (from matplotlib!=3.6.1,>=3.4->seaborn) (1.2.0)\n",
      "Requirement already satisfied: kiwisolver>=1.3.1 in /home/iskadoodle/.local/lib/python3.10/site-packages (from matplotlib!=3.6.1,>=3.4->seaborn) (1.4.5)\n",
      "Requirement already satisfied: tzdata>=2022.1 in /home/iskadoodle/.local/lib/python3.10/site-packages (from pandas>=1.2->seaborn) (2023.3)\n",
      "Requirement already satisfied: pytz>=2020.1 in /usr/lib/python3/dist-packages (from pandas>=1.2->seaborn) (2022.1)\n",
      "Requirement already satisfied: six>=1.5 in /usr/lib/python3/dist-packages (from python-dateutil>=2.7->matplotlib!=3.6.1,>=3.4->seaborn) (1.16.0)\n",
      "Installing collected packages: seaborn\n",
      "Successfully installed seaborn-0.13.2\n"
     ]
    }
   ],
   "source": [
    "!pip install seaborn"
   ]
  },
  {
   "cell_type": "code",
   "execution_count": 54,
   "id": "718a7abb-36b0-4b9a-8eff-b8bf4a2c7097",
   "metadata": {},
   "outputs": [
    {
     "data": {
      "image/png": "[encoded data removed]",
      "text/plain": [
       "<Figure size 640x480 with 2 Axes>"
      ]
     },
     "metadata": {},
     "output_type": "display_data"
    }
   ],
   "source": [
    "import itertools\n",
    "def plot_confusion_matrix(conf_matrix, classes, title):\n",
    "    plt.imshow(conf_matrix, interpolation='nearest', cmap=plt.cm.Blues)\n",
    "    plt.title(title)\n",
    "    plt.colorbar()\n",
    "    tick_marks = np.arange(len(classes))\n",
    "    plt.xticks(tick_marks, classes, rotation=45)\n",
    "    plt.yticks(tick_marks, classes)\n",
    "\n",
    "    fmt = 'd'\n",
    "    thresh = conf_matrix.max() / 2.\n",
    "    for i, j in itertools.product(range(conf_matrix.shape[0]), range(conf_matrix.shape[1])):\n",
    "        plt.text(j, i, format(conf_matrix[i, j], fmt),\n",
    "                 horizontalalignment=\"center\",\n",
    "                 color=\"white\" if conf_matrix[i, j] > thresh else \"black\")\n",
    "\n",
    "    plt.tight_layout()\n",
    "    plt.ylabel('True Label')\n",
    "    plt.xlabel('Predicted Label')\n",
    "\n",
    "plot_confusion_matrix(confusion_mat, ['DDoS', 'Normal', 'Probe'], \"Confusion Matrix\")\n",
    "plt.show()"
   ]
  }
 ],
 "metadata": {
  "kernelspec": {
   "display_name": "Python 3 (ipykernel)",
   "language": "python",
   "name": "python3"
  },
  "language_info": {
   "codemirror_mode": {
    "name": "ipython",
    "version": 3
   },
   "file_extension": ".py",
   "mimetype": "text/x-python",
   "name": "python",
   "nbconvert_exporter": "python",
   "pygments_lexer": "ipython3",
   "version": "3.10.12"
  }
 },
 "nbformat": 4,
 "nbformat_minor": 5
}
